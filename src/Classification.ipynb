{
 "cells": [
  {
   "cell_type": "markdown",
   "metadata": {},
   "source": [
    "# Building the Classifier"
   ]
  },
  {
   "cell_type": "code",
   "execution_count": 9,
   "metadata": {},
   "outputs": [],
   "source": [
    "import pickle\n",
    "import pandas as pd\n",
    "import numpy as np\n",
    "from os.path import join\n",
    "\n",
    "from sklearn import svm\n",
    "from sklearn.metrics import confusion_matrix\n",
    "from sklearn.model_selection import train_test_split\n",
    "from sklearn.utils.multiclass import unique_labels"
   ]
  },
  {
   "cell_type": "markdown",
   "metadata": {},
   "source": [
    "## 1. For a single region"
   ]
  },
  {
   "cell_type": "markdown",
   "metadata": {},
   "source": [
    "1.1 Read saved feature matrix and corresponding labels"
   ]
  },
  {
   "cell_type": "code",
   "execution_count": 2,
   "metadata": {},
   "outputs": [],
   "source": [
    "region = 'curated'\n",
    "\n",
    "pickle_path = join('..', '..', 'pickles')\n",
    "with open(join(pickle_path, 'resnet50_features_' + region + '_train.pkl'), 'rb') as f:\n",
    "    df_train = pickle.load(f)"
   ]
  },
  {
   "cell_type": "markdown",
   "metadata": {},
   "source": [
    "1.2 Convert the features into a matrix and the labels into a list"
   ]
  },
  {
   "cell_type": "code",
   "execution_count": 3,
   "metadata": {},
   "outputs": [],
   "source": [
    "feature_matrix = df_train['features'].to_numpy()\n",
    "feature_matrix = np.column_stack(feature_matrix).transpose()\n",
    "\n",
    "labels = df_train['label'].to_numpy().astype('int')"
   ]
  },
  {
   "cell_type": "markdown",
   "metadata": {},
   "source": [
    "1.3 Split data into train and validation set"
   ]
  },
  {
   "cell_type": "code",
   "execution_count": 4,
   "metadata": {},
   "outputs": [],
   "source": [
    "features_train, features_test, labels_train, labels_test = train_test_split(feature_matrix,\n",
    "                                                                            labels,\n",
    "                                                                            test_size=0.33,\n",
    "                                                                            random_state=43)"
   ]
  },
  {
   "cell_type": "markdown",
   "metadata": {},
   "source": [
    "1.3. Train a classifier on the training set and save it to disk"
   ]
  },
  {
   "cell_type": "code",
   "execution_count": 5,
   "metadata": {
    "scrolled": true
   },
   "outputs": [],
   "source": [
    "clf = svm.SVC(gamma='scale', probability=True, C=100, decision_function_shape='ovr')\n",
    "clf.fit(features_train, labels_train)\n",
    "\n",
    "with open(join(pickle_path, 'classifier.pkl' ), 'wb') as f:\n",
    "    pickle.dump(clf, f)"
   ]
  },
  {
   "cell_type": "markdown",
   "metadata": {},
   "source": [
    "1.4. Predict labels on the validation set according to the classifier"
   ]
  },
  {
   "cell_type": "code",
   "execution_count": 6,
   "metadata": {
    "scrolled": true
   },
   "outputs": [],
   "source": [
    "predicted_labels = clf.predict(features_test)"
   ]
  },
  {
   "cell_type": "markdown",
   "metadata": {},
   "source": [
    "1.5. Calculate and plot (to do) the confusion matrix"
   ]
  },
  {
   "cell_type": "code",
   "execution_count": 7,
   "metadata": {},
   "outputs": [
    {
     "name": "stdout",
     "output_type": "stream",
     "text": [
      "[[14  1  2  1  0]\n",
      " [ 1 18  1  1  0]\n",
      " [ 0  0 10  1  0]\n",
      " [ 0  0  1 12  1]\n",
      " [ 0  0  1  0  4]]\n"
     ]
    }
   ],
   "source": [
    "cm = confusion_matrix(labels_test, predicted_labels)\n",
    "print(cm)"
   ]
  },
  {
   "cell_type": "code",
   "execution_count": 8,
   "metadata": {
    "scrolled": true
   },
   "outputs": [
    {
     "name": "stdout",
     "output_type": "stream",
     "text": [
      "[0.32623592 0.33407995 0.04612867 0.04045531 0.25310015] 0\n",
      "[0.02585654 0.02947882 0.12742263 0.7875693  0.02967272] 3\n",
      "[0.96106545 0.00700827 0.02372455 0.00462538 0.00357635] 0\n",
      "[0.92955901 0.0223956  0.00742757 0.01537196 0.02524585] 0\n",
      "[0.00168519 0.0060048  0.01184194 0.26158264 0.71888544] 4\n",
      "[0.01935112 0.01477218 0.04409353 0.88809381 0.03368935] 3\n",
      "[0.00855545 0.00425066 0.00806734 0.94635448 0.03277207] 3\n",
      "[0.00195423 0.00250486 0.00806003 0.97838135 0.00909954] 3\n",
      "[0.00906023 0.00994846 0.92091904 0.04172376 0.01834851] 2\n",
      "[0.00295868 0.71859338 0.00315389 0.01377523 0.26151883] 1\n",
      "[0.00356877 0.01017338 0.80130179 0.14501507 0.03994099] 2\n",
      "[0.02180286 0.09200722 0.07169893 0.73913857 0.07535243] 3\n",
      "[0.00286082 0.0078805  0.01086957 0.8713787  0.10701043] 3\n",
      "[0.01058244 0.93723426 0.00379107 0.00798312 0.04040912] 1\n",
      "[0.00365825 0.85971751 0.02061064 0.02727397 0.08873963] 1\n",
      "[0.96331756 0.00799609 0.01450916 0.00254226 0.01163493] 0\n",
      "[0.29551851 0.00367481 0.6604802  0.03153712 0.00878936] 0\n",
      "[0.00751238 0.04082511 0.01747792 0.03768307 0.89650152] 4\n",
      "[0.91719208 0.00305331 0.06742681 0.00726821 0.0050596 ] 0\n",
      "[0.01250516 0.88084329 0.00468575 0.03496103 0.06700478] 1\n",
      "[0.00348685 0.87798196 0.01172946 0.01913785 0.08766389] 1\n",
      "[0.03927922 0.01046086 0.02452805 0.9185459  0.00718598] 3\n",
      "[0.0078734  0.94220582 0.00408011 0.00874703 0.03709364] 1\n",
      "[0.00506974 0.06440252 0.41074684 0.18666541 0.33311549] 4\n",
      "[0.96766911 0.00408547 0.00691002 0.00482104 0.01651436] 0\n",
      "[0.97160139 0.00157501 0.02145158 0.00267766 0.00269437] 0\n",
      "[0.01206447 0.19577069 0.0156607  0.05168203 0.72482211] 4\n",
      "[0.0008567  0.00328292 0.79551802 0.19159204 0.00875033] 2\n",
      "[0.53290681 0.02579644 0.24478609 0.12034923 0.07616142] 0\n",
      "[0.29083219 0.55774344 0.03552974 0.05967398 0.05622065] 1\n",
      "[0.77161569 0.02467511 0.0704701  0.02928328 0.10395582] 0\n",
      "[0.22284176 0.01125534 0.65004069 0.06895141 0.04691079] 0\n",
      "[0.02429442 0.95127864 0.00450331 0.00499532 0.01492833] 1\n",
      "[0.97621027 0.0066847  0.00655362 0.00466971 0.0058817 ] 0\n",
      "[0.03125558 0.84226624 0.01923993 0.04715189 0.06008635] 1\n",
      "[0.35735858 0.45992785 0.07636109 0.05946229 0.04689019] 1\n",
      "[0.00846747 0.54727244 0.04408515 0.16293648 0.23723847] 1\n",
      "[0.00182607 0.01389003 0.01586472 0.94410945 0.02430973] 3\n",
      "[0.95369718 0.01030866 0.00950953 0.00892312 0.01756152] 0\n",
      "[0.00153138 0.00569859 0.01861699 0.96151873 0.01263431] 3\n",
      "[0.02035678 0.52309351 0.01331688 0.04870108 0.39453175] 1\n",
      "[0.02094165 0.0357814  0.13696776 0.07777183 0.72853737] 3\n",
      "[0.04806585 0.10765376 0.23062416 0.51824841 0.09540781] 3\n",
      "[0.20706887 0.00693676 0.67980134 0.09484207 0.01135096] 2\n",
      "[0.04739961 0.00979721 0.82349994 0.07284237 0.04646087] 2\n",
      "[0.0057504  0.03319487 0.03844245 0.09450536 0.82810691] 4\n",
      "[0.00765539 0.19572143 0.24450735 0.25940937 0.29270646] 2\n",
      "[0.00683763 0.00835545 0.55466158 0.21799453 0.21215081] 3\n",
      "[0.00685661 0.11266249 0.26309046 0.1269451  0.49044535] 1\n",
      "[0.00648628 0.00635173 0.9434089  0.04059169 0.00316139] 2\n",
      "[0.96318538 0.00608832 0.01253716 0.01296358 0.00522557] 0\n",
      "[0.02902136 0.93934733 0.00167276 0.00213153 0.02782701] 1\n",
      "[0.02176026 0.91732563 0.01325103 0.03141836 0.01624473] 1\n",
      "[0.94925893 0.02472927 0.00773583 0.00699598 0.01127999] 0\n",
      "[1.26774368e-03 9.81290451e-01 4.36191664e-04 1.14622383e-03\n",
      " 1.58593900e-02] 1\n",
      "[0.17915769 0.00603466 0.74200741 0.06114421 0.01165603] 2\n",
      "[0.07035679 0.00356203 0.90866027 0.01115585 0.00626506] 2\n",
      "[0.00924488 0.00551842 0.89605649 0.05528708 0.03389313] 2\n",
      "[0.00804063 0.1763622  0.0042688  0.47560779 0.33572058] 3\n",
      "[0.16571041 0.02290509 0.24556471 0.55024466 0.01557513] 0\n",
      "[0.94241206 0.00932883 0.02570068 0.00737564 0.0151828 ] 0\n",
      "[0.00745212 0.27763473 0.19865824 0.38172897 0.13452594] 1\n",
      "[0.35184659 0.28096322 0.06051791 0.03459639 0.2720759 ] 1\n",
      "[0.02570126 0.00304275 0.86414042 0.08585542 0.02126015] 2\n",
      "[0.02174166 0.00668039 0.27828677 0.6769951  0.01629607] 3\n",
      "[1.01461266e-03 9.38025484e-01 6.50971322e-04 8.82863077e-03\n",
      " 5.14803009e-02] 1\n",
      "[0.9425923  0.00262647 0.04467581 0.00490203 0.0052034 ] 0\n",
      "[0.00301335 0.90825171 0.00170653 0.00241958 0.08460884] 1\n",
      "[0.05152381 0.76867572 0.06020147 0.03873867 0.08086033] 1\n"
     ]
    }
   ],
   "source": [
    "pred_probas = clf.predict_proba(features_test)\n",
    "\n",
    "for i in range(len(predicted_labels)):\n",
    "    print(pred_probas[i], labels_test[i])"
   ]
  },
  {
   "cell_type": "markdown",
   "metadata": {},
   "source": [
    "## 2. For a set of regions"
   ]
  },
  {
   "cell_type": "markdown",
   "metadata": {},
   "source": [
    "2.1 Load all available training features into one big dataframe"
   ]
  },
  {
   "cell_type": "code",
   "execution_count": 10,
   "metadata": {},
   "outputs": [],
   "source": [
    "regions = ['borde_rural', 'borde_soacha', 'mixco_3', 'mixco_1_and_ebenezer', 'dennery']"
   ]
  },
  {
   "cell_type": "code",
   "execution_count": 11,
   "metadata": {},
   "outputs": [],
   "source": [
    "columns = ['id', 'features', 'label']\n",
    "df_train_global = pd.DataFrame(columns=columns)\n",
    "\n",
    "pickle_path = join('..', '..', 'pickles')\n",
    "for region in regions:\n",
    "    try:\n",
    "        with open(join(pickle_path, 'resnet50_features_' + region + '_train.pkl'), 'rb') as f:\n",
    "            df_train = pickle.load(f)\n",
    "            df_train_global = pd.concat([df_train_global, df_train])\n",
    "    except:\n",
    "        print(\"Error reading training data for region \", region)\n",
    "    "
   ]
  },
  {
   "cell_type": "code",
   "execution_count": 12,
   "metadata": {},
   "outputs": [
    {
     "data": {
      "text/html": [
       "<div>\n",
       "<style scoped>\n",
       "    .dataframe tbody tr th:only-of-type {\n",
       "        vertical-align: middle;\n",
       "    }\n",
       "\n",
       "    .dataframe tbody tr th {\n",
       "        vertical-align: top;\n",
       "    }\n",
       "\n",
       "    .dataframe thead th {\n",
       "        text-align: right;\n",
       "    }\n",
       "</style>\n",
       "<table border=\"1\" class=\"dataframe\">\n",
       "  <thead>\n",
       "    <tr style=\"text-align: right;\">\n",
       "      <th></th>\n",
       "      <th>id</th>\n",
       "      <th>features</th>\n",
       "      <th>label</th>\n",
       "    </tr>\n",
       "  </thead>\n",
       "  <tbody>\n",
       "    <tr>\n",
       "      <th>0</th>\n",
       "      <td>7a1c6d7c</td>\n",
       "      <td>[0.8933228, 9.503732, 0.72881216, 3.7250175, 0...</td>\n",
       "      <td>0</td>\n",
       "    </tr>\n",
       "    <tr>\n",
       "      <th>1</th>\n",
       "      <td>7a1d078c</td>\n",
       "      <td>[0.0, 2.642926, 0.5762399, 0.0, 3.139349, 1.07...</td>\n",
       "      <td>0</td>\n",
       "    </tr>\n",
       "    <tr>\n",
       "      <th>2</th>\n",
       "      <td>7a1d2ff0</td>\n",
       "      <td>[1.8013268, 3.5478988, 2.0254405, 0.0, 0.78705...</td>\n",
       "      <td>0</td>\n",
       "    </tr>\n",
       "    <tr>\n",
       "      <th>3</th>\n",
       "      <td>7a1d570a</td>\n",
       "      <td>[4.6264086, 3.7589073, 8.721215, 0.4236287, 0....</td>\n",
       "      <td>0</td>\n",
       "    </tr>\n",
       "    <tr>\n",
       "      <th>4</th>\n",
       "      <td>7a1d6042</td>\n",
       "      <td>[1.9871483, 3.8774838, 6.796729, 0.10309696, 3...</td>\n",
       "      <td>0</td>\n",
       "    </tr>\n",
       "  </tbody>\n",
       "</table>\n",
       "</div>"
      ],
      "text/plain": [
       "         id                                           features label\n",
       "0  7a1c6d7c  [0.8933228, 9.503732, 0.72881216, 3.7250175, 0...     0\n",
       "1  7a1d078c  [0.0, 2.642926, 0.5762399, 0.0, 3.139349, 1.07...     0\n",
       "2  7a1d2ff0  [1.8013268, 3.5478988, 2.0254405, 0.0, 0.78705...     0\n",
       "3  7a1d570a  [4.6264086, 3.7589073, 8.721215, 0.4236287, 0....     0\n",
       "4  7a1d6042  [1.9871483, 3.8774838, 6.796729, 0.10309696, 3...     0"
      ]
     },
     "execution_count": 12,
     "metadata": {},
     "output_type": "execute_result"
    }
   ],
   "source": [
    "df_train_global.head()"
   ]
  },
  {
   "cell_type": "markdown",
   "metadata": {},
   "source": [
    "2.2 Expand the dataframe such that instead of a list of features, every feature has its one column"
   ]
  },
  {
   "cell_type": "code",
   "execution_count": 13,
   "metadata": {},
   "outputs": [],
   "source": [
    "#features_train = df_train_global.features.apply(lambda features: pd.Series(list(features)))\n",
    "#features_train\n",
    "\n",
    "#features_train = df_train_global.features.apply(lambda x: pd.Series(list(x)))\n",
    "#features_train = features_train.astype('double')\n",
    "\n",
    "feature_matrix_global = df_train_global['features'].to_numpy()\n",
    "feature_matrix_global = np.column_stack(feature_matrix_global).transpose()\n",
    "\n",
    "labels_global = df_train_global['label'].to_numpy().astype('int')"
   ]
  },
  {
   "cell_type": "code",
   "execution_count": 14,
   "metadata": {
    "scrolled": true
   },
   "outputs": [
    {
     "data": {
      "text/plain": [
       "(14853, 2048)"
      ]
     },
     "execution_count": 14,
     "metadata": {},
     "output_type": "execute_result"
    }
   ],
   "source": [
    "feature_matrix_global.shape"
   ]
  },
  {
   "cell_type": "markdown",
   "metadata": {},
   "source": [
    "## 3. Train an SVM Classifier"
   ]
  },
  {
   "cell_type": "code",
   "execution_count": 14,
   "metadata": {},
   "outputs": [
    {
     "name": "stdout",
     "output_type": "stream",
     "text": [
      "[LibSVM]"
     ]
    },
    {
     "data": {
      "text/plain": [
       "SVC(C=100, cache_size=200, class_weight=None, coef0=0.0,\n",
       "    decision_function_shape='ovr', degree=3, gamma='scale', kernel='rbf',\n",
       "    max_iter=-1, probability=True, random_state=None, shrinking=True, tol=0.001,\n",
       "    verbose=1)"
      ]
     },
     "execution_count": 14,
     "metadata": {},
     "output_type": "execute_result"
    }
   ],
   "source": [
    "clf = svm.SVC(gamma='scale', probability=True, C=100, decision_function_shape='ovr', verbose=1)\n",
    "clf.fit(feature_matrix_global, labels_global)"
   ]
  },
  {
   "cell_type": "code",
   "execution_count": 15,
   "metadata": {},
   "outputs": [],
   "source": [
    "with open(join(pickle_path, 'classifier_br_bs_m3_m1_d.pkl' ), 'wb') as f:\n",
    "    pickle.dump(clf, f)"
   ]
  },
  {
   "cell_type": "markdown",
   "metadata": {},
   "source": [
    "## 4. Train a Random Forest Model"
   ]
  },
  {
   "cell_type": "code",
   "execution_count": 3,
   "metadata": {},
   "outputs": [],
   "source": [
    "from sklearn.ensemble import RandomForestClassifier"
   ]
  },
  {
   "cell_type": "code",
   "execution_count": null,
   "metadata": {},
   "outputs": [],
   "source": [
    "clf = RandomForestClassifier(n_estimators=100, max_depth=32, random_state=0)\n",
    "clf.fit(feature_matrix_global, labels_global) "
   ]
  }
 ],
 "metadata": {
  "kernelspec": {
   "display_name": "Python 3",
   "language": "python",
   "name": "python3"
  },
  "language_info": {
   "codemirror_mode": {
    "name": "ipython",
    "version": 3
   },
   "file_extension": ".py",
   "mimetype": "text/x-python",
   "name": "python",
   "nbconvert_exporter": "python",
   "pygments_lexer": "ipython3",
   "version": "3.7.3"
  }
 },
 "nbformat": 4,
 "nbformat_minor": 2
}
