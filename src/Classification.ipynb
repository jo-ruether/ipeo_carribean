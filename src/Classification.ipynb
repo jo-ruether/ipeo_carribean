{
 "cells": [
  {
   "cell_type": "markdown",
   "metadata": {},
   "source": [
    "# Building the Classifier"
   ]
  },
  {
   "cell_type": "code",
   "execution_count": 1,
   "metadata": {},
   "outputs": [],
   "source": [
    "import pickle\n",
    "import pandas as pd\n",
    "import numpy as np\n",
    "from os.path import join\n",
    "\n",
    "from sklearn import svm\n",
    "from sklearn.metrics import confusion_matrix\n",
    "from sklearn.model_selection import train_test_split\n",
    "from sklearn.utils.multiclass import unique_labels"
   ]
  },
  {
   "cell_type": "markdown",
   "metadata": {},
   "source": [
    "## 1. For a single region"
   ]
  },
  {
   "cell_type": "markdown",
   "metadata": {},
   "source": [
    "**1.1** Read saved feature matrix and corresponding labels"
   ]
  },
  {
   "cell_type": "code",
   "execution_count": 2,
   "metadata": {},
   "outputs": [],
   "source": [
    "region = 'curated'\n",
    "\n",
    "pickle_path = join('..', '..', 'pickles')\n",
    "with open(join(pickle_path, 'resnet50_features_' + region + '_train.pkl'), 'rb') as f:\n",
    "    df_train = pickle.load(f)"
   ]
  },
  {
   "cell_type": "markdown",
   "metadata": {},
   "source": [
    "**1.2** Convert the features into a matrix and the labels into a list"
   ]
  },
  {
   "cell_type": "code",
   "execution_count": 3,
   "metadata": {},
   "outputs": [],
   "source": [
    "feature_matrix = df_train['features'].to_numpy()\n",
    "feature_matrix = np.column_stack(feature_matrix).transpose()\n",
    "\n",
    "labels = df_train['label'].to_numpy().astype('int')"
   ]
  },
  {
   "cell_type": "markdown",
   "metadata": {},
   "source": [
    "1.3 Split data into train and validation set"
   ]
  },
  {
   "cell_type": "code",
   "execution_count": 4,
   "metadata": {},
   "outputs": [],
   "source": [
    "features_train, features_test, labels_train, labels_test = train_test_split(feature_matrix,\n",
    "                                                                            labels,\n",
    "                                                                            test_size=0.33,\n",
    "                                                                            random_state=43)"
   ]
  },
  {
   "cell_type": "markdown",
   "metadata": {},
   "source": [
    "1.3. Train a classifier on the training set and save it to disk"
   ]
  },
  {
   "cell_type": "code",
   "execution_count": 5,
   "metadata": {
    "scrolled": true
   },
   "outputs": [],
   "source": [
    "clf = svm.SVC(gamma='scale', probability=True, C=100, decision_function_shape='ovr')\n",
    "clf.fit(features_train, labels_train)\n",
    "\n",
    "with open(join(pickle_path, 'classifier.pkl' ), 'wb') as f:\n",
    "    pickle.dump(clf, f)"
   ]
  },
  {
   "cell_type": "markdown",
   "metadata": {},
   "source": [
    "1.4. Predict labels on the validation set according to the classifier"
   ]
  },
  {
   "cell_type": "code",
   "execution_count": 6,
   "metadata": {
    "scrolled": true
   },
   "outputs": [],
   "source": [
    "predicted_labels = clf.predict(features_test)"
   ]
  },
  {
   "cell_type": "markdown",
   "metadata": {},
   "source": [
    "1.5. Calculate and plot (to do) the confusion matrix"
   ]
  },
  {
   "cell_type": "code",
   "execution_count": 7,
   "metadata": {},
   "outputs": [
    {
     "name": "stdout",
     "output_type": "stream",
     "text": [
      "[[14  1  2  1  0]\n",
      " [ 1 18  1  1  0]\n",
      " [ 0  0 10  1  0]\n",
      " [ 0  0  1 12  1]\n",
      " [ 0  0  1  0  4]]\n"
     ]
    }
   ],
   "source": [
    "cm = confusion_matrix(labels_test, predicted_labels)\n",
    "print(cm)"
   ]
  },
  {
   "cell_type": "code",
   "execution_count": 8,
   "metadata": {
    "scrolled": true
   },
   "outputs": [
    {
     "name": "stdout",
     "output_type": "stream",
     "text": [
      "[0.33951308 0.34842611 0.04533576 0.04013541 0.22658964] 0\n",
      "[0.02205633 0.02337387 0.09327877 0.84111365 0.02017738] 3\n",
      "[0.96147448 0.00792523 0.02157417 0.00432752 0.0046986 ] 0\n",
      "[0.91895387 0.02690449 0.00819583 0.01662817 0.02931764] 0\n",
      "[0.00275372 0.00617738 0.00991003 0.27387434 0.70728453] 4\n",
      "[0.01591606 0.01135018 0.02947518 0.91987155 0.02338703] 3\n",
      "[0.00718198 0.00337585 0.00491734 0.96014231 0.02438252] 3\n",
      "[0.00115004 0.00131282 0.00474257 0.986901   0.00589357] 3\n",
      "[0.00910612 0.00980025 0.93135246 0.03666927 0.01307189] 2\n",
      "[0.00467913 0.73691991 0.00320729 0.01206816 0.24312551] 1\n",
      "[0.00403936 0.00984746 0.8087539  0.14712289 0.03023639] 2\n",
      "[0.0209784  0.08765014 0.05652131 0.77496136 0.05988879] 3\n",
      "[0.00272729 0.00635751 0.00676109 0.89708356 0.08707055] 3\n",
      "[0.01255057 0.93933161 0.00391995 0.00748961 0.03670826] 1\n",
      "[0.00477557 0.86692897 0.02149821 0.02560023 0.08119701] 1\n",
      "[0.95894914 0.00945469 0.01463826 0.00266454 0.01429336] 0\n",
      "[0.34346548 0.0041046  0.60992722 0.03291552 0.00958719] 0\n",
      "[0.01245128 0.04496467 0.01726442 0.03742619 0.88789343] 4\n",
      "[0.92463716 0.00345713 0.05891378 0.00678008 0.00621184] 0\n",
      "[0.01322455 0.8927212  0.00482468 0.03075208 0.05847749] 1\n",
      "[0.00441305 0.88613099 0.01213646 0.01680333 0.08051618] 1\n",
      "[0.03030498 0.00777302 0.01462488 0.94266443 0.0046327 ] 3\n",
      "[0.00924493 0.94496929 0.00431039 0.00803775 0.03343764] 1\n",
      "[0.00679623 0.06624151 0.42501332 0.20257512 0.29937382] 4\n",
      "[0.9600744  0.00579197 0.00825994 0.00532188 0.02055181] 0\n",
      "[0.97244756 0.00195537 0.01922315 0.00248476 0.00388917] 0\n",
      "[0.01705892 0.21211829 0.01578099 0.05232465 0.70271715] 4\n",
      "[0.00087906 0.00324309 0.79006986 0.1995811  0.00622689] 2\n",
      "[0.54922486 0.02842829 0.22175721 0.12945968 0.07112996] 0\n",
      "[0.2860173  0.56932845 0.03386776 0.05983231 0.05095418] 1\n",
      "[0.77770333 0.02682415 0.06664392 0.02963724 0.09919137] 0\n",
      "[0.25622854 0.013592   0.60660316 0.07697565 0.04660064] 0\n",
      "[0.02647355 0.95000065 0.00470355 0.00499869 0.01382357] 1\n",
      "[0.97266435 0.00815135 0.00685741 0.00478072 0.00754616] 0\n",
      "[0.03347863 0.85022123 0.01901473 0.04358934 0.05369607] 1\n",
      "[0.35051727 0.47092602 0.075357   0.0605152  0.04268452] 1\n",
      "[0.00988069 0.56538196 0.04253964 0.16040591 0.2217918 ] 1\n",
      "[0.00163032 0.01144947 0.01015647 0.95961281 0.01715094] 3\n",
      "[0.94547861 0.01325825 0.01069982 0.00949899 0.02106433] 0\n",
      "[0.00120824 0.00395032 0.01076799 0.97603166 0.00804178] 3\n",
      "[0.026981   0.54533941 0.01390142 0.04550847 0.3682697 ] 1\n",
      "[0.03014298 0.0388953  0.14707782 0.08072594 0.70315796] 3\n",
      "[0.04720677 0.10207513 0.20519619 0.56956332 0.0759586 ] 3\n",
      "[0.23837842 0.00842512 0.63963735 0.10132945 0.01222966] 2\n",
      "[0.05451275 0.01015424 0.82986096 0.06925507 0.03621698] 2\n",
      "[0.00976185 0.03564214 0.03730244 0.09571346 0.82158011] 4\n",
      "[0.00880092 0.19544853 0.24667199 0.28202065 0.26705792] 2\n",
      "[0.00832894 0.0082109  0.57052724 0.23207526 0.18085766] 3\n",
      "[0.00967085 0.11798439 0.27929326 0.13415442 0.45889707] 1\n",
      "[0.00729283 0.00643783 0.94817024 0.03565021 0.00244889] 2\n",
      "[0.96136297 0.00710534 0.01206177 0.01291658 0.00655333] 0\n",
      "[0.03159024 0.93950121 0.00176029 0.00200535 0.02514291] 1\n",
      "[0.02302045 0.92184029 0.01339993 0.0272934  0.01444593] 1\n",
      "[0.9402053  0.02996508 0.00902046 0.00730276 0.0135064 ] 0\n",
      "[1.66123418e-03 9.82373159e-01 4.89922301e-04 1.00116379e-03\n",
      " 1.44745207e-02] 1\n",
      "[0.21025345 0.0071059  0.70427709 0.06640838 0.01195517] 2\n",
      "[0.08971179 0.00405289 0.88827299 0.01223776 0.00572457] 2\n",
      "[0.01092441 0.0056201  0.90850607 0.04991151 0.02503791] 2\n",
      "[0.01053789 0.18007595 0.00383664 0.49803739 0.30751213] 3\n",
      "[0.15153732 0.02101648 0.20122032 0.61352099 0.01270489] 0\n",
      "[0.93993433 0.01134961 0.0235877  0.00751436 0.017614  ] 0\n",
      "[0.00874163 0.28115534 0.18784146 0.40616874 0.11609283] 1\n",
      "[0.38252363 0.28815877 0.05674804 0.03187385 0.24069572] 1\n",
      "[0.02915117 0.0031698  0.86818525 0.08330571 0.01618807] 2\n",
      "[0.02071247 0.00573762 0.22379647 0.7383576  0.01139584] 3\n",
      "[1.42766937e-03 9.43295259e-01 6.91444116e-04 7.47471145e-03\n",
      " 4.71109162e-02] 1\n",
      "[0.94616164 0.00308946 0.03939453 0.00457515 0.00677923] 0\n",
      "[0.00402452 0.91456743 0.00175139 0.00213402 0.07752264] 1\n",
      "[0.05751109 0.76357168 0.06284927 0.03890476 0.0771632 ] 1\n"
     ]
    }
   ],
   "source": [
    "pred_probas = clf.predict_proba(features_test)\n",
    "\n",
    "for i in range(len(predicted_labels)):\n",
    "    print(pred_probas[i], labels_test[i])"
   ]
  },
  {
   "cell_type": "markdown",
   "metadata": {},
   "source": [
    "## 2. Build Classifier Using All Regions"
   ]
  },
  {
   "cell_type": "markdown",
   "metadata": {},
   "source": [
    "2.1 Load all available training features into one big dataframe"
   ]
  },
  {
   "cell_type": "code",
   "execution_count": 15,
   "metadata": {},
   "outputs": [],
   "source": [
    "regions = ['borde_rural', 'borde_soacha', 'mixco_3', 'mixco_1_and_ebenezer', 'dennery']"
   ]
  },
  {
   "cell_type": "code",
   "execution_count": 16,
   "metadata": {},
   "outputs": [],
   "source": [
    "columns = ['id', 'features', 'label']\n",
    "df_train_global = pd.DataFrame(columns=columns)\n",
    "\n",
    "pickle_path = join('..', '..', 'pickles')\n",
    "for region in regions:\n",
    "    try:\n",
    "        with open(join(pickle_path, 'resnet50_features_' + region + '_train.pkl'), 'rb') as f:\n",
    "            df_train = pickle.load(f)\n",
    "            df_train_global = pd.concat([df_train_global, df_train])\n",
    "    except:\n",
    "        print(\"Error reading training data for region \", region)\n",
    "    "
   ]
  },
  {
   "cell_type": "code",
   "execution_count": 17,
   "metadata": {},
   "outputs": [
    {
     "data": {
      "text/html": [
       "<div>\n",
       "<style scoped>\n",
       "    .dataframe tbody tr th:only-of-type {\n",
       "        vertical-align: middle;\n",
       "    }\n",
       "\n",
       "    .dataframe tbody tr th {\n",
       "        vertical-align: top;\n",
       "    }\n",
       "\n",
       "    .dataframe thead th {\n",
       "        text-align: right;\n",
       "    }\n",
       "</style>\n",
       "<table border=\"1\" class=\"dataframe\">\n",
       "  <thead>\n",
       "    <tr style=\"text-align: right;\">\n",
       "      <th></th>\n",
       "      <th>id</th>\n",
       "      <th>features</th>\n",
       "      <th>label</th>\n",
       "    </tr>\n",
       "  </thead>\n",
       "  <tbody>\n",
       "    <tr>\n",
       "      <th>0</th>\n",
       "      <td>7a1c6d7c</td>\n",
       "      <td>[0.8933228, 9.503732, 0.72881216, 3.7250175, 0...</td>\n",
       "      <td>0</td>\n",
       "    </tr>\n",
       "    <tr>\n",
       "      <th>1</th>\n",
       "      <td>7a1d078c</td>\n",
       "      <td>[0.0, 2.642926, 0.5762399, 0.0, 3.139349, 1.07...</td>\n",
       "      <td>0</td>\n",
       "    </tr>\n",
       "    <tr>\n",
       "      <th>2</th>\n",
       "      <td>7a1d2ff0</td>\n",
       "      <td>[1.8013268, 3.5478988, 2.0254405, 0.0, 0.78705...</td>\n",
       "      <td>0</td>\n",
       "    </tr>\n",
       "    <tr>\n",
       "      <th>3</th>\n",
       "      <td>7a1d570a</td>\n",
       "      <td>[4.6264086, 3.7589073, 8.721215, 0.4236287, 0....</td>\n",
       "      <td>0</td>\n",
       "    </tr>\n",
       "    <tr>\n",
       "      <th>4</th>\n",
       "      <td>7a1d6042</td>\n",
       "      <td>[1.9871483, 3.8774838, 6.796729, 0.10309696, 3...</td>\n",
       "      <td>0</td>\n",
       "    </tr>\n",
       "  </tbody>\n",
       "</table>\n",
       "</div>"
      ],
      "text/plain": [
       "         id                                           features label\n",
       "0  7a1c6d7c  [0.8933228, 9.503732, 0.72881216, 3.7250175, 0...     0\n",
       "1  7a1d078c  [0.0, 2.642926, 0.5762399, 0.0, 3.139349, 1.07...     0\n",
       "2  7a1d2ff0  [1.8013268, 3.5478988, 2.0254405, 0.0, 0.78705...     0\n",
       "3  7a1d570a  [4.6264086, 3.7589073, 8.721215, 0.4236287, 0....     0\n",
       "4  7a1d6042  [1.9871483, 3.8774838, 6.796729, 0.10309696, 3...     0"
      ]
     },
     "execution_count": 17,
     "metadata": {},
     "output_type": "execute_result"
    }
   ],
   "source": [
    "df_train_global.head()"
   ]
  },
  {
   "cell_type": "markdown",
   "metadata": {},
   "source": [
    "2.2 Expand the dataframe such that instead of a list of features, every feature has its one column"
   ]
  },
  {
   "cell_type": "code",
   "execution_count": 18,
   "metadata": {},
   "outputs": [],
   "source": [
    "#features_train = df_train_global.features.apply(lambda features: pd.Series(list(features)))\n",
    "#features_train\n",
    "\n",
    "#features_train = df_train_global.features.apply(lambda x: pd.Series(list(x)))\n",
    "#features_train = features_train.astype('double')\n",
    "\n",
    "feature_matrix_global = df_train_global['features'].to_numpy()\n",
    "feature_matrix_global = np.column_stack(feature_matrix_global).transpose()\n",
    "\n",
    "labels_global = df_train_global['label'].to_numpy().astype('int')"
   ]
  },
  {
   "cell_type": "code",
   "execution_count": 19,
   "metadata": {
    "scrolled": true
   },
   "outputs": [
    {
     "data": {
      "text/plain": [
       "(14853, 2048)"
      ]
     },
     "execution_count": 19,
     "metadata": {},
     "output_type": "execute_result"
    }
   ],
   "source": [
    "feature_matrix_global.shape"
   ]
  },
  {
   "cell_type": "markdown",
   "metadata": {},
   "source": [
    "**2.3** Train the classifier using all training data  "
   ]
  },
  {
   "cell_type": "code",
   "execution_count": null,
   "metadata": {},
   "outputs": [
    {
     "name": "stdout",
     "output_type": "stream",
     "text": [
      "[LibSVM]"
     ]
    }
   ],
   "source": [
    "clf = svm.SVC(gamma='scale', probability=True, C=100, decision_function_shape='ovr', verbose=1)\n",
    "clf.fit(feature_matrix_global, labels_global)"
   ]
  },
  {
   "cell_type": "code",
   "execution_count": null,
   "metadata": {},
   "outputs": [],
   "source": [
    "with open(join(pickle_path, 'classifier_br_bs_m3_m1.pkl' ), 'wb') as f:\n",
    "    pickle.dump(clf, f)"
   ]
  },
  {
   "cell_type": "code",
   "execution_count": null,
   "metadata": {},
   "outputs": [],
   "source": []
  }
 ],
 "metadata": {
  "kernelspec": {
   "display_name": "Python 3",
   "language": "python",
   "name": "python3"
  },
  "language_info": {
   "codemirror_mode": {
    "name": "ipython",
    "version": 3
   },
   "file_extension": ".py",
   "mimetype": "text/x-python",
   "name": "python",
   "nbconvert_exporter": "python",
   "pygments_lexer": "ipython3",
   "version": "3.7.3"
  }
 },
 "nbformat": 4,
 "nbformat_minor": 2
}
