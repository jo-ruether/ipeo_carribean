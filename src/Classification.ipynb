{
 "cells": [
  {
   "cell_type": "markdown",
   "metadata": {},
   "source": [
    "# Building the Classifier"
   ]
  },
  {
   "cell_type": "code",
   "execution_count": 2,
   "metadata": {},
   "outputs": [],
   "source": [
    "import pickle\n",
    "import pandas as pd\n",
    "import numpy as np\n",
    "from os.path import join\n",
    "\n",
    "from sklearn import svm\n",
    "from sklearn.metrics import confusion_matrix\n",
    "from sklearn.model_selection import train_test_split\n",
    "from sklearn.utils.multiclass import unique_labels\n",
    "from sklearn.preprocessing import StandardScaler\n",
    "from sklearn.ensemble import RandomForestClassifier"
   ]
  },
  {
   "cell_type": "markdown",
   "metadata": {},
   "source": [
    "## 1. For a single region"
   ]
  },
  {
   "cell_type": "markdown",
   "metadata": {},
   "source": [
    "1.1 Read saved feature matrix and corresponding labels"
   ]
  },
  {
   "cell_type": "code",
   "execution_count": null,
   "metadata": {},
   "outputs": [],
   "source": [
    "region = 'curated'\n",
    "\n",
    "pickle_path = join('..', '..', 'pickles')\n",
    "with open(join(pickle_path, 'resnet50_avg_features_' + region + '_train.pkl'), 'rb') as f:\n",
    "    df_train = pickle.load(f)"
   ]
  },
  {
   "cell_type": "markdown",
   "metadata": {},
   "source": [
    "### 1.2 Convert the features into a matrix and the labels into a list"
   ]
  },
  {
   "cell_type": "code",
   "execution_count": null,
   "metadata": {},
   "outputs": [],
   "source": [
    "feature_matrix = df_train['features'].to_numpy()\n",
    "feature_matrix = np.column_stack(feature_matrix).transpose()\n",
    "\n",
    "labels = df_train['label'].to_numpy().astype('int')\n",
    "\n",
    "scaler = StandardScaler()\n",
    "scaler.fit(feature_matrix)\n",
    "feature_matrix_scaled = scaler.transform(feature_matrix)"
   ]
  },
  {
   "cell_type": "markdown",
   "metadata": {},
   "source": [
    "1.3 Split data into train and validation set"
   ]
  },
  {
   "cell_type": "code",
   "execution_count": null,
   "metadata": {},
   "outputs": [],
   "source": [
    "features_train, features_test, labels_train, labels_test = train_test_split(feature_matrix_scaled,\n",
    "                                                                            labels,\n",
    "                                                                            test_size=0.33,\n",
    "                                                                            random_state=43)"
   ]
  },
  {
   "cell_type": "markdown",
   "metadata": {},
   "source": [
    "1.3. Train a classifier on the training set and save it to disk"
   ]
  },
  {
   "cell_type": "code",
   "execution_count": null,
   "metadata": {
    "scrolled": true
   },
   "outputs": [],
   "source": [
    "clf = svm.SVC(gamma='scale', probability=True, C=100, decision_function_shape='ovr')\n",
    "clf.fit(features_train, labels_train)\n",
    "\n",
    "#with open(join(pickle_path, 'classifier_densenet201_max.pkl' ), 'wb') as f:\n",
    "#    pickle.dump(clf, f)"
   ]
  },
  {
   "cell_type": "markdown",
   "metadata": {},
   "source": [
    "1.4. Predict labels on the validation set according to the classifier"
   ]
  },
  {
   "cell_type": "code",
   "execution_count": null,
   "metadata": {
    "scrolled": true
   },
   "outputs": [],
   "source": [
    "predicted_labels = clf.predict(features_test)"
   ]
  },
  {
   "cell_type": "markdown",
   "metadata": {},
   "source": [
    "1.5. Calculate and plot (to do) the confusion matrix"
   ]
  },
  {
   "cell_type": "code",
   "execution_count": null,
   "metadata": {},
   "outputs": [],
   "source": [
    "cm = confusion_matrix(labels_test, predicted_labels)\n",
    "print(cm)"
   ]
  },
  {
   "cell_type": "markdown",
   "metadata": {},
   "source": [
    "Train a RF to assess feature importance"
   ]
  },
  {
   "cell_type": "code",
   "execution_count": null,
   "metadata": {},
   "outputs": [],
   "source": [
    "\n",
    "forest = RandomForestClassifier(n_estimators=50, max_depth=16, random_state=0)\n",
    "forest.fit(feature_matrix, labels) "
   ]
  },
  {
   "cell_type": "code",
   "execution_count": null,
   "metadata": {},
   "outputs": [],
   "source": [
    "importances = forest.feature_importances_\n",
    "indices = np.argsort(importances)[::-1][:1]"
   ]
  },
  {
   "cell_type": "code",
   "execution_count": null,
   "metadata": {},
   "outputs": [],
   "source": [
    "feature_matrix_selected = feature_matrix[:, indices]"
   ]
  },
  {
   "cell_type": "code",
   "execution_count": null,
   "metadata": {},
   "outputs": [],
   "source": [
    "indices"
   ]
  },
  {
   "cell_type": "code",
   "execution_count": null,
   "metadata": {
    "scrolled": true
   },
   "outputs": [],
   "source": [
    "feature_matrix_selected"
   ]
  },
  {
   "cell_type": "code",
   "execution_count": null,
   "metadata": {},
   "outputs": [],
   "source": [
    "features_train, features_test, labels_train, labels_test = train_test_split(feature_matrix_selected,\n",
    "                                                                            labels,\n",
    "                                                                            test_size=0.33,\n",
    "                                                                            random_state=43)\n",
    "\n",
    "clf = svm.SVC(gamma='scale', probability=True, C=100, decision_function_shape='ovr')\n",
    "clf.fit(features_train, labels_train)\n",
    "\n",
    "predicted_labels = clf.predict(features_test)\n",
    "cm = confusion_matrix(labels_test, predicted_labels)\n",
    "print(cm)"
   ]
  },
  {
   "cell_type": "code",
   "execution_count": null,
   "metadata": {},
   "outputs": [],
   "source": []
  },
  {
   "cell_type": "code",
   "execution_count": null,
   "metadata": {
    "scrolled": true
   },
   "outputs": [],
   "source": [
    "pred_probas = clf.predict_proba(features_test)\n",
    "\n",
    "for i in range(len(predicted_labels)):\n",
    "    print(pred_probas[i], labels_test[i])"
   ]
  },
  {
   "cell_type": "markdown",
   "metadata": {},
   "source": [
    "## 2. For a set of regions"
   ]
  },
  {
   "cell_type": "markdown",
   "metadata": {},
   "source": [
    "2.1 Load all available training features into one big dataframe"
   ]
  },
  {
   "cell_type": "code",
   "execution_count": 3,
   "metadata": {},
   "outputs": [],
   "source": [
    "regions = regions = ['borde_rural', 'mixco_1_and_ebenezer', 'mixco_3', 'dennery']"
   ]
  },
  {
   "cell_type": "code",
   "execution_count": 4,
   "metadata": {},
   "outputs": [],
   "source": [
    "columns = ['id', 'features', 'label']\n",
    "df_train_global = pd.DataFrame(columns=columns)\n",
    "\n",
    "pickle_path = join('..', '..', 'pickles')\n",
    "for region in regions:\n",
    "    try:\n",
    "        with open(join(pickle_path, 'resnet50_avg_features_' + region + '_train.pkl'), 'rb') as f:\n",
    "            df_train = pickle.load(f)\n",
    "            df_train_global = pd.concat([df_train_global, df_train], ignore_index=True)\n",
    "    except:\n",
    "        print(\"Error reading training data for region \", region)\n",
    "    "
   ]
  },
  {
   "cell_type": "code",
   "execution_count": 5,
   "metadata": {},
   "outputs": [],
   "source": [
    "df_train_global.head()\n",
    "df_train_global = df_train_global.sort_values(by=['id'])"
   ]
  },
  {
   "cell_type": "markdown",
   "metadata": {},
   "source": [
    "2.2 Expand the dataframe such that instead of a list of features, every feature has its one column"
   ]
  },
  {
   "cell_type": "code",
   "execution_count": 6,
   "metadata": {},
   "outputs": [],
   "source": [
    "#features_train = df_train_global.features.apply(lambda features: pd.Series(list(features)))\n",
    "#features_train\n",
    "\n",
    "#features_train = df_train_global.features.apply(lambda x: pd.Series(list(x)))\n",
    "#features_train = features_train.astype('double')\n",
    "\n",
    "feature_matrix_global = df_train_global['features'].to_numpy()\n",
    "feature_matrix_global = np.column_stack(feature_matrix_global).transpose()\n",
    "\n",
    "labels_global = df_train_global['label'].to_numpy().astype('int')"
   ]
  },
  {
   "cell_type": "code",
   "execution_count": 7,
   "metadata": {},
   "outputs": [],
   "source": [
    "scaler = StandardScaler()\n",
    "scaler.fit(feature_matrix_global)\n",
    "feature_matrix_scaled = scaler.transform(feature_matrix_global)"
   ]
  },
  {
   "cell_type": "code",
   "execution_count": 8,
   "metadata": {
    "scrolled": true
   },
   "outputs": [
    {
     "name": "stdout",
     "output_type": "stream",
     "text": [
      "(8865, 2048)\n",
      "(8865,)\n"
     ]
    }
   ],
   "source": [
    "print(feature_matrix_global.shape)\n",
    "print(labels_global.shape)"
   ]
  },
  {
   "cell_type": "markdown",
   "metadata": {},
   "source": [
    "## 3. Train an SVM Classifier"
   ]
  },
  {
   "cell_type": "code",
   "execution_count": null,
   "metadata": {},
   "outputs": [],
   "source": [
    "clf = svm.SVC(gamma='scale', probability=True, C=100, decision_function_shape='ovr', verbose=1)\n",
    "clf.fit(feature_matrix_global, labels_global)"
   ]
  },
  {
   "cell_type": "code",
   "execution_count": null,
   "metadata": {},
   "outputs": [],
   "source": []
  },
  {
   "cell_type": "code",
   "execution_count": null,
   "metadata": {},
   "outputs": [],
   "source": [
    "#with open(join(pickle_path, 'classifier_resnet50_avg_retrained_all_scaled.pkl' ), 'wb') as f:\n",
    "#    pickle.dump(clf, f)"
   ]
  },
  {
   "cell_type": "markdown",
   "metadata": {},
   "source": [
    "## 4. Train a Random Forest Model"
   ]
  },
  {
   "cell_type": "code",
   "execution_count": 9,
   "metadata": {},
   "outputs": [
    {
     "data": {
      "text/plain": [
       "RandomForestClassifier(bootstrap=True, class_weight=None, criterion='gini',\n",
       "                       max_depth=16, max_features='auto', max_leaf_nodes=None,\n",
       "                       min_impurity_decrease=0.0, min_impurity_split=None,\n",
       "                       min_samples_leaf=1, min_samples_split=2,\n",
       "                       min_weight_fraction_leaf=0.0, n_estimators=100, n_jobs=6,\n",
       "                       oob_score=False, random_state=0, verbose=0,\n",
       "                       warm_start=False)"
      ]
     },
     "execution_count": 9,
     "metadata": {},
     "output_type": "execute_result"
    }
   ],
   "source": [
    "forest = RandomForestClassifier(n_estimators=100, max_depth=16, random_state=0, n_jobs=6)\n",
    "forest.fit(feature_matrix_global, labels_global) "
   ]
  },
  {
   "cell_type": "code",
   "execution_count": 10,
   "metadata": {},
   "outputs": [],
   "source": [
    "importances = forest.feature_importances_\n",
    "indices = np.argsort(importances)[::-1][:20]\n",
    "feature_matrix_selected = feature_matrix_global[:, indices]"
   ]
  },
  {
   "cell_type": "code",
   "execution_count": 11,
   "metadata": {},
   "outputs": [
    {
     "data": {
      "text/plain": [
       "SVC(C=100, cache_size=200, class_weight=None, coef0=0.0,\n",
       "    decision_function_shape='ovr', degree=3, gamma='scale', kernel='rbf',\n",
       "    max_iter=-1, probability=True, random_state=None, shrinking=True, tol=0.001,\n",
       "    verbose=False)"
      ]
     },
     "execution_count": 11,
     "metadata": {},
     "output_type": "execute_result"
    }
   ],
   "source": [
    "features_train, features_test, labels_train, labels_test = train_test_split(feature_matrix_selected,\n",
    "                                                                            labels_global,\n",
    "                                                                            test_size=0.33,\n",
    "                                                                            random_state=42)\n",
    "\n",
    "clf = svm.SVC(gamma='scale', probability=True, C=100, decision_function_shape='ovr')\n",
    "clf.fit(features_train, labels_train)"
   ]
  },
  {
   "cell_type": "code",
   "execution_count": 12,
   "metadata": {},
   "outputs": [],
   "source": [
    "materials = {'concrete_cement':0, 'healthy_metal':1, 'incomplete':2, 'irregular_metal':3, 'other':4}"
   ]
  },
  {
   "cell_type": "code",
   "execution_count": 13,
   "metadata": {},
   "outputs": [],
   "source": [
    "predicted_labels = clf.predict(features_test)\n",
    "cm = confusion_matrix(labels_test, predicted_labels)\n",
    "\n",
    "row_sums = cm.sum(axis=1, keepdims=True)\n",
    "cm_norm = cm / row_sums"
   ]
  },
  {
   "cell_type": "code",
   "execution_count": 15,
   "metadata": {},
   "outputs": [
    {
     "data": {
      "image/png": "[encoded data removed]",
      "text/plain": [
       "<Figure size 612x612 with 2 Axes>"
      ]
     },
     "metadata": {
      "needs_background": "light"
     },
     "output_type": "display_data"
    }
   ],
   "source": [
    "import matplotlib.pyplot as plt\n",
    "import utils\n",
    "\n",
    "fig, ax = plt.subplots(figsize=(8.5, 8.5))\n",
    "im, cbar = utils.heatmap(cm_norm,  materials.keys(), materials.keys(), ax=ax,\n",
    "                   cmap=\"GnBu\")\n",
    "texts = utils.annotate_heatmap(im)\n",
    "\n",
    "fig.tight_layout()\n",
    "plt.show()\n",
    "\n",
    "#fname = join('..', 'documentation', 'figures', 'results', 'nn_based_cm.png')\n",
    "#fig.savefig(fname)"
   ]
  },
  {
   "cell_type": "code",
   "execution_count": null,
   "metadata": {},
   "outputs": [],
   "source": [
    "from sklearn.model_selection import cross_validate"
   ]
  },
  {
   "cell_type": "code",
   "execution_count": null,
   "metadata": {},
   "outputs": [],
   "source": [
    "cv_results = cross_validate(clf, feature_matrix_selected, labels_global,\n",
    "                            cv=5, scoring=('f1_macro', 'f1_micro', 'accuracy', 'balanced_accuracy', 'log_loss'),\n",
    "                            n_jobs=7)"
   ]
  },
  {
   "cell_type": "code",
   "execution_count": null,
   "metadata": {},
   "outputs": [],
   "source": [
    "cv_results"
   ]
  }
 ],
 "metadata": {
  "kernelspec": {
   "display_name": "Python 3",
   "language": "python",
   "name": "python3"
  },
  "language_info": {
   "codemirror_mode": {
    "name": "ipython",
    "version": 3
   },
   "file_extension": ".py",
   "mimetype": "text/x-python",
   "name": "python",
   "nbconvert_exporter": "python",
   "pygments_lexer": "ipython3",
   "version": "3.7.5"
  }
 },
 "nbformat": 4,
 "nbformat_minor": 2
}
