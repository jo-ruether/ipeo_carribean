{
 "cells": [
  {
   "cell_type": "markdown",
   "metadata": {},
   "source": [
    "## Classification using SVMs"
   ]
  },
  {
   "cell_type": "markdown",
   "metadata": {},
   "source": [
    "1. Read saved feature matrix and corresponding labels"
   ]
  },
  {
   "cell_type": "code",
   "execution_count": 133,
   "metadata": {},
   "outputs": [],
   "source": [
    "import pickle\n",
    "from os.path import join\n",
    "\n",
    "region = 'mixco_3'\n",
    "pickle_path = join('..', '..', 'pickles')\n",
    "with open(join(pickle_path, 'resnet50_feature_matrix_' + region + '.pkl'), 'rb') as f:\n",
    "    resnet50_feature_matrix = pickle.load(f)\n",
    "with open(join(pickle_path, 'labels_' + region + '.pkl'), 'rb') as f:\n",
    "    labels = pickle.load(f)"
   ]
  },
  {
   "cell_type": "markdown",
   "metadata": {},
   "source": [
    "2. Split data into train and validation set"
   ]
  },
  {
   "cell_type": "code",
   "execution_count": 134,
   "metadata": {},
   "outputs": [],
   "source": [
    "from sklearn import svm\n",
    "from sklearn.metrics import confusion_matrix\n",
    "from sklearn.model_selection import train_test_split\n",
    "from sklearn.utils.multiclass import unique_labels"
   ]
  },
  {
   "cell_type": "code",
   "execution_count": 135,
   "metadata": {},
   "outputs": [],
   "source": [
    "features_train, features_test, labels_train, labels_test = train_test_split(resnet50_feature_matrix,\n",
    "                                                                            labels,\n",
    "                                                                            test_size=0.33,\n",
    "                                                                            random_state=43)"
   ]
  },
  {
   "cell_type": "markdown",
   "metadata": {},
   "source": [
    "3. Train a classifier on the training set and save it to disk"
   ]
  },
  {
   "cell_type": "code",
   "execution_count": 141,
   "metadata": {
    "scrolled": true
   },
   "outputs": [],
   "source": [
    "clf = svm.SVC(gamma='scale', probability=True, C=100, decision_function_shape='ovr')\n",
    "clf.fit(features_train, labels_train)\n",
    "\n",
    "with open(join(pickle_path, 'classifier.pkl' ), 'wb') as f:\n",
    "    pickle.dump(clf, f)"
   ]
  },
  {
   "cell_type": "markdown",
   "metadata": {},
   "source": [
    "4. Predict labels on the validation set according to the classifier"
   ]
  },
  {
   "cell_type": "code",
   "execution_count": 137,
   "metadata": {
    "scrolled": true
   },
   "outputs": [],
   "source": [
    "predicted_labels = clf.predict(features_test)"
   ]
  },
  {
   "cell_type": "markdown",
   "metadata": {},
   "source": [
    "5. Calculate and plot (to do) the confusion matrix"
   ]
  },
  {
   "cell_type": "code",
   "execution_count": 138,
   "metadata": {},
   "outputs": [
    {
     "name": "stdout",
     "output_type": "stream",
     "text": [
      "[[17  0  0  0]\n",
      " [ 1 16  2  1]\n",
      " [ 1  0 13  0]\n",
      " [ 1  0  0  1]]\n"
     ]
    }
   ],
   "source": [
    "cm = confusion_matrix(labels_test, predicted_labels)\n",
    "print(cm)"
   ]
  },
  {
   "cell_type": "code",
   "execution_count": 139,
   "metadata": {
    "scrolled": true
   },
   "outputs": [
    {
     "name": "stdout",
     "output_type": "stream",
     "text": [
      "[0.03 0.9  0.01 0.06] 1\n",
      "[0.04 0.05 0.9  0.01] 2\n",
      "[0.03 0.28 0.01 0.69] 4\n",
      "[0.46 0.39 0.07 0.09] 0\n",
      "[0.01 0.79 0.01 0.19] 1\n",
      "[0.15 0.73 0.03 0.1 ] 1\n",
      "[0.18 0.09 0.46 0.27] 2\n",
      "[0.05 0.46 0.42 0.06] 1\n",
      "[0.96 0.03 0.01 0.  ] 0\n",
      "[0.89 0.08 0.01 0.02] 0\n",
      "[0.93 0.04 0.01 0.02] 0\n",
      "[0.13 0.05 0.73 0.09] 2\n",
      "[0.08 0.77 0.05 0.1 ] 1\n",
      "[0.06 0.67 0.03 0.25] 1\n",
      "[0.44 0.09 0.44 0.03] 2\n",
      "[0.7  0.09 0.18 0.02] 0\n",
      "[0.6  0.32 0.06 0.02] 0\n",
      "[0.01 0.01 0.98 0.  ] 2\n",
      "[0.84 0.06 0.03 0.07] 0\n",
      "[0.92 0.03 0.03 0.02] 0\n",
      "[0.02 0.78 0.02 0.18] 1\n",
      "[0.17 0.71 0.04 0.07] 1\n",
      "[0.01 0.88 0.   0.11] 1\n",
      "[0.05 0.04 0.89 0.02] 2\n",
      "[0.73 0.03 0.21 0.03] 0\n",
      "[0.1  0.02 0.86 0.02] 2\n",
      "[0.98 0.01 0.   0.  ] 0\n",
      "[0.99 0.01 0.   0.  ] 0\n",
      "[0.02 0.3  0.65 0.03] 1\n",
      "[0.03 0.02 0.94 0.01] 2\n",
      "[0.97 0.01 0.   0.01] 0\n",
      "[0.02 0.02 0.96 0.  ] 2\n"
     ]
    }
   ],
   "source": [
    "pred_probas = clf.predict_proba(features_test)\n",
    "\n",
    "for i in range(len(predictions)):\n",
    "    print(pred_probas[i], labels_test[i])"
   ]
  }
 ],
 "metadata": {
  "kernelspec": {
   "display_name": "Python 3",
   "language": "python",
   "name": "python3"
  },
  "language_info": {
   "codemirror_mode": {
    "name": "ipython",
    "version": 3
   },
   "file_extension": ".py",
   "mimetype": "text/x-python",
   "name": "python",
   "nbconvert_exporter": "python",
   "pygments_lexer": "ipython3",
   "version": "3.7.3"
  }
 },
 "nbformat": 4,
 "nbformat_minor": 2
}
