{
 "cells": [
  {
   "cell_type": "markdown",
   "metadata": {},
   "source": [
    "### Predict probabilities on all test images using the saved classifier "
   ]
  },
  {
   "cell_type": "code",
   "execution_count": 1,
   "metadata": {},
   "outputs": [],
   "source": [
    "import pickle\n",
    "from os.path import join\n",
    "import numpy as np\n",
    "import pandas as pd"
   ]
  },
  {
   "cell_type": "markdown",
   "metadata": {},
   "source": [
    "**1.** Load the trained classifier"
   ]
  },
  {
   "cell_type": "code",
   "execution_count": 2,
   "metadata": {},
   "outputs": [],
   "source": [
    "pickle_path = join('..', '..', 'pickles')\n",
    "with open(join(pickle_path, 'classifier_br_bs_m3.pkl'), 'rb') as f:\n",
    "    clf = pickle.load(f)"
   ]
  },
  {
   "cell_type": "code",
   "execution_count": 3,
   "metadata": {},
   "outputs": [],
   "source": [
    "regions = ['borde_rural', 'borde_soacha', 'mixco_1_and_ebenezer', 'mixco_3', 'dennery']\n",
    "#regions = ['mixco_3']"
   ]
  },
  {
   "cell_type": "markdown",
   "metadata": {},
   "source": [
    "**2.** Collect sets of test features and concatenate them into one"
   ]
  },
  {
   "cell_type": "code",
   "execution_count": 4,
   "metadata": {},
   "outputs": [],
   "source": [
    "columns = ['id', 'features']\n",
    "df_test_global = pd.DataFrame(columns=columns)\n",
    "\n",
    "for region in regions:\n",
    "    try:\n",
    "        with open(join(pickle_path, 'resnet50_features_' + region + '_test.pkl'), 'rb') as f:\n",
    "            df_test = pickle.load(f)\n",
    "            df_test_global = pd.concat([df_test_global, df_test])\n",
    "    except:\n",
    "        print(\"Error reading test data for region \", region)"
   ]
  },
  {
   "cell_type": "code",
   "execution_count": 5,
   "metadata": {},
   "outputs": [
    {
     "data": {
      "text/html": [
       "<div>\n",
       "<style scoped>\n",
       "    .dataframe tbody tr th:only-of-type {\n",
       "        vertical-align: middle;\n",
       "    }\n",
       "\n",
       "    .dataframe tbody tr th {\n",
       "        vertical-align: top;\n",
       "    }\n",
       "\n",
       "    .dataframe thead th {\n",
       "        text-align: right;\n",
       "    }\n",
       "</style>\n",
       "<table border=\"1\" class=\"dataframe\">\n",
       "  <thead>\n",
       "    <tr style=\"text-align: right;\">\n",
       "      <th></th>\n",
       "      <th>id</th>\n",
       "      <th>features</th>\n",
       "    </tr>\n",
       "  </thead>\n",
       "  <tbody>\n",
       "    <tr>\n",
       "      <th>0</th>\n",
       "      <td>7a44da50</td>\n",
       "      <td>[3.915693, 3.9185672, 3.345753, 0.123248816, 0...</td>\n",
       "    </tr>\n",
       "    <tr>\n",
       "      <th>1</th>\n",
       "      <td>7a44dcf8</td>\n",
       "      <td>[4.8018703, 2.8915873, 2.8877943, 2.8772202, 0...</td>\n",
       "    </tr>\n",
       "    <tr>\n",
       "      <th>2</th>\n",
       "      <td>7a44dd66</td>\n",
       "      <td>[1.3122209, 6.605673, 2.665344, 0.68282366, 0....</td>\n",
       "    </tr>\n",
       "    <tr>\n",
       "      <th>3</th>\n",
       "      <td>7a44df46</td>\n",
       "      <td>[0.0, 2.925912, 0.2874285, 0.0, 2.95557, 0.000...</td>\n",
       "    </tr>\n",
       "    <tr>\n",
       "      <th>4</th>\n",
       "      <td>7a44dfb4</td>\n",
       "      <td>[2.6583984, 2.3240876, 1.397907, 0.42449367, 0...</td>\n",
       "    </tr>\n",
       "  </tbody>\n",
       "</table>\n",
       "</div>"
      ],
      "text/plain": [
       "         id                                           features\n",
       "0  7a44da50  [3.915693, 3.9185672, 3.345753, 0.123248816, 0...\n",
       "1  7a44dcf8  [4.8018703, 2.8915873, 2.8877943, 2.8772202, 0...\n",
       "2  7a44dd66  [1.3122209, 6.605673, 2.665344, 0.68282366, 0....\n",
       "3  7a44df46  [0.0, 2.925912, 0.2874285, 0.0, 2.95557, 0.000...\n",
       "4  7a44dfb4  [2.6583984, 2.3240876, 1.397907, 0.42449367, 0..."
      ]
     },
     "execution_count": 5,
     "metadata": {},
     "output_type": "execute_result"
    }
   ],
   "source": [
    "df_test_global.head()"
   ]
  },
  {
   "cell_type": "markdown",
   "metadata": {},
   "source": [
    "**3.** Predict the probabilities for every test example and put them all in a new dataframe"
   ]
  },
  {
   "cell_type": "code",
   "execution_count": 6,
   "metadata": {},
   "outputs": [],
   "source": [
    "#import math\n",
    "\n",
    "#def sigmoid(x):\n",
    "#    return 1 / (1 + math.exp(-x))"
   ]
  },
  {
   "cell_type": "code",
   "execution_count": 7,
   "metadata": {},
   "outputs": [],
   "source": [
    "columns = ['id', 'pred_prob']\n",
    "df_results = pd.DataFrame(columns=columns)\n",
    "data = []\n",
    "\n",
    "for i, row in df_test_global.iterrows():\n",
    "    \n",
    "    features = row['features'].reshape(1, -1)\n",
    "    pred_prob = clf.predict_proba(features)[0]\n",
    "    #print(pred_prob)\n",
    "    #map(sigmoid, pred_prob)\n",
    "    \n",
    "    d = {'id': row['id'], 'pred_prob': pred_prob}\n",
    "    data.append(d)\n",
    "\n",
    "df_results = pd.DataFrame(data)\n",
    "#df_results.features.apply(lambda features: pd.Series(list(features)))"
   ]
  },
  {
   "cell_type": "markdown",
   "metadata": {},
   "source": [
    "Annotate the MultiPolygons by hand"
   ]
  },
  {
   "cell_type": "code",
   "execution_count": 8,
   "metadata": {},
   "outputs": [],
   "source": [
    "pred_prob = [0.2, 0.2, 0.2, 0.2, 0.2]\n",
    "\n",
    "data = [\n",
    "    {'id': '7a4cb770', 'pred_prob': pred_prob},\n",
    "    {'id': '7a4715fe', 'pred_prob': pred_prob},\n",
    "    {'id': '7a4b8850', 'pred_prob': pred_prob},\n",
    "    {'id': '7a451c90', 'pred_prob': pred_prob},\n",
    "    {'id': '7a4efc74', 'pred_prob': pred_prob},\n",
    "    {'id': '7a4d32b8', 'pred_prob': pred_prob},\n",
    "    {'id': '7a4ec4ac', 'pred_prob': pred_prob},\n",
    "    {'id': '7a46856c', 'pred_prob': pred_prob},\n",
    "    {'id': '7a46f6dc', 'pred_prob': pred_prob},\n",
    "    {'id': '7a4ae9f4', 'pred_prob': pred_prob}  \n",
    "]\n",
    "    \n",
    "df_multipolygon = pd.DataFrame(data)"
   ]
  },
  {
   "cell_type": "code",
   "execution_count": 9,
   "metadata": {},
   "outputs": [],
   "source": [
    "df_results = pd.concat([df_results, df_multipolygon])"
   ]
  },
  {
   "cell_type": "code",
   "execution_count": 10,
   "metadata": {},
   "outputs": [],
   "source": [
    "df_pred_prob = df_results.pred_prob.apply(lambda prob: pd.Series(list(prob)))\n",
    "df_pred_prob.columns = ['concrete_cement','healthy_metal','incomplete','irregular_metal','other']"
   ]
  },
  {
   "cell_type": "code",
   "execution_count": 11,
   "metadata": {},
   "outputs": [
    {
     "data": {
      "text/html": [
       "<div>\n",
       "<style scoped>\n",
       "    .dataframe tbody tr th:only-of-type {\n",
       "        vertical-align: middle;\n",
       "    }\n",
       "\n",
       "    .dataframe tbody tr th {\n",
       "        vertical-align: top;\n",
       "    }\n",
       "\n",
       "    .dataframe thead th {\n",
       "        text-align: right;\n",
       "    }\n",
       "</style>\n",
       "<table border=\"1\" class=\"dataframe\">\n",
       "  <thead>\n",
       "    <tr style=\"text-align: right;\">\n",
       "      <th></th>\n",
       "      <th>concrete_cement</th>\n",
       "      <th>healthy_metal</th>\n",
       "      <th>incomplete</th>\n",
       "      <th>irregular_metal</th>\n",
       "      <th>other</th>\n",
       "    </tr>\n",
       "  </thead>\n",
       "  <tbody>\n",
       "    <tr>\n",
       "      <th>0</th>\n",
       "      <td>0.000075</td>\n",
       "      <td>0.987796</td>\n",
       "      <td>0.000399</td>\n",
       "      <td>0.011648</td>\n",
       "      <td>0.000083</td>\n",
       "    </tr>\n",
       "    <tr>\n",
       "      <th>1</th>\n",
       "      <td>0.000733</td>\n",
       "      <td>0.477090</td>\n",
       "      <td>0.089818</td>\n",
       "      <td>0.431071</td>\n",
       "      <td>0.001289</td>\n",
       "    </tr>\n",
       "    <tr>\n",
       "      <th>2</th>\n",
       "      <td>0.007897</td>\n",
       "      <td>0.021540</td>\n",
       "      <td>0.401618</td>\n",
       "      <td>0.568818</td>\n",
       "      <td>0.000127</td>\n",
       "    </tr>\n",
       "    <tr>\n",
       "      <th>3</th>\n",
       "      <td>0.266794</td>\n",
       "      <td>0.001391</td>\n",
       "      <td>0.716770</td>\n",
       "      <td>0.014617</td>\n",
       "      <td>0.000429</td>\n",
       "    </tr>\n",
       "    <tr>\n",
       "      <th>4</th>\n",
       "      <td>0.000339</td>\n",
       "      <td>0.964012</td>\n",
       "      <td>0.001767</td>\n",
       "      <td>0.033751</td>\n",
       "      <td>0.000130</td>\n",
       "    </tr>\n",
       "  </tbody>\n",
       "</table>\n",
       "</div>"
      ],
      "text/plain": [
       "   concrete_cement  healthy_metal  incomplete  irregular_metal     other\n",
       "0         0.000075       0.987796    0.000399         0.011648  0.000083\n",
       "1         0.000733       0.477090    0.089818         0.431071  0.001289\n",
       "2         0.007897       0.021540    0.401618         0.568818  0.000127\n",
       "3         0.266794       0.001391    0.716770         0.014617  0.000429\n",
       "4         0.000339       0.964012    0.001767         0.033751  0.000130"
      ]
     },
     "execution_count": 11,
     "metadata": {},
     "output_type": "execute_result"
    }
   ],
   "source": [
    "df_pred_prob.head()"
   ]
  },
  {
   "cell_type": "code",
   "execution_count": 12,
   "metadata": {},
   "outputs": [
    {
     "data": {
      "text/html": [
       "<div>\n",
       "<style scoped>\n",
       "    .dataframe tbody tr th:only-of-type {\n",
       "        vertical-align: middle;\n",
       "    }\n",
       "\n",
       "    .dataframe tbody tr th {\n",
       "        vertical-align: top;\n",
       "    }\n",
       "\n",
       "    .dataframe thead th {\n",
       "        text-align: right;\n",
       "    }\n",
       "</style>\n",
       "<table border=\"1\" class=\"dataframe\">\n",
       "  <thead>\n",
       "    <tr style=\"text-align: right;\">\n",
       "      <th></th>\n",
       "      <th>id</th>\n",
       "      <th>concrete_cement</th>\n",
       "      <th>healthy_metal</th>\n",
       "      <th>incomplete</th>\n",
       "      <th>irregular_metal</th>\n",
       "      <th>other</th>\n",
       "    </tr>\n",
       "  </thead>\n",
       "  <tbody>\n",
       "    <tr>\n",
       "      <th>0</th>\n",
       "      <td>7a44da50</td>\n",
       "      <td>0.000075</td>\n",
       "      <td>0.987796</td>\n",
       "      <td>0.000399</td>\n",
       "      <td>0.011648</td>\n",
       "      <td>0.000083</td>\n",
       "    </tr>\n",
       "    <tr>\n",
       "      <th>1</th>\n",
       "      <td>7a44dcf8</td>\n",
       "      <td>0.000733</td>\n",
       "      <td>0.477090</td>\n",
       "      <td>0.089818</td>\n",
       "      <td>0.431071</td>\n",
       "      <td>0.001289</td>\n",
       "    </tr>\n",
       "    <tr>\n",
       "      <th>2</th>\n",
       "      <td>7a44dd66</td>\n",
       "      <td>0.007897</td>\n",
       "      <td>0.021540</td>\n",
       "      <td>0.401618</td>\n",
       "      <td>0.568818</td>\n",
       "      <td>0.000127</td>\n",
       "    </tr>\n",
       "    <tr>\n",
       "      <th>3</th>\n",
       "      <td>7a44df46</td>\n",
       "      <td>0.266794</td>\n",
       "      <td>0.001391</td>\n",
       "      <td>0.716770</td>\n",
       "      <td>0.014617</td>\n",
       "      <td>0.000429</td>\n",
       "    </tr>\n",
       "    <tr>\n",
       "      <th>4</th>\n",
       "      <td>7a44dfb4</td>\n",
       "      <td>0.000339</td>\n",
       "      <td>0.964012</td>\n",
       "      <td>0.001767</td>\n",
       "      <td>0.033751</td>\n",
       "      <td>0.000130</td>\n",
       "    </tr>\n",
       "  </tbody>\n",
       "</table>\n",
       "</div>"
      ],
      "text/plain": [
       "         id  concrete_cement  healthy_metal  incomplete  irregular_metal  \\\n",
       "0  7a44da50         0.000075       0.987796    0.000399         0.011648   \n",
       "1  7a44dcf8         0.000733       0.477090    0.089818         0.431071   \n",
       "2  7a44dd66         0.007897       0.021540    0.401618         0.568818   \n",
       "3  7a44df46         0.266794       0.001391    0.716770         0.014617   \n",
       "4  7a44dfb4         0.000339       0.964012    0.001767         0.033751   \n",
       "\n",
       "      other  \n",
       "0  0.000083  \n",
       "1  0.001289  \n",
       "2  0.000127  \n",
       "3  0.000429  \n",
       "4  0.000130  "
      ]
     },
     "execution_count": 12,
     "metadata": {},
     "output_type": "execute_result"
    }
   ],
   "source": [
    "final = pd.concat([df_results, df_pred_prob], axis=1)\n",
    "final = final.drop(columns=['pred_prob'])\n",
    "final.head()"
   ]
  },
  {
   "cell_type": "markdown",
   "metadata": {},
   "source": [
    "Weirdly, the results have to be sorted by id in the same way as the example submission_format. We do this here:"
   ]
  },
  {
   "cell_type": "code",
   "execution_count": 13,
   "metadata": {},
   "outputs": [],
   "source": [
    "submission_format = pd.read_csv(join('..', '..', 'data', 'submission_format.csv'))\n",
    "final_sorted = final.set_index('id')\n",
    "final_sorted = final_sorted.reindex(index=submission_format['id'])\n",
    "final_sorted = final_sorted.reset_index()"
   ]
  },
  {
   "cell_type": "code",
   "execution_count": 14,
   "metadata": {},
   "outputs": [],
   "source": [
    "final_sorted.to_csv(path_or_buf=join('..', '..', 'results', 'results_br_bs_m3.csv'), index=False)"
   ]
  },
  {
   "cell_type": "code",
   "execution_count": null,
   "metadata": {},
   "outputs": [],
   "source": [
    "final_sorted.shape"
   ]
  }
 ],
 "metadata": {
  "kernelspec": {
   "display_name": "Python 3",
   "language": "python",
   "name": "python3"
  },
  "language_info": {
   "codemirror_mode": {
    "name": "ipython",
    "version": 3
   },
   "file_extension": ".py",
   "mimetype": "text/x-python",
   "name": "python",
   "nbconvert_exporter": "python",
   "pygments_lexer": "ipython3",
   "version": "3.7.3"
  }
 },
 "nbformat": 4,
 "nbformat_minor": 2
}
