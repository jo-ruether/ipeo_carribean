{
 "cells": [
  {
   "cell_type": "markdown",
   "metadata": {},
   "source": [
    "# Creation of an all-in-one dataset"
   ]
  },
  {
   "cell_type": "markdown",
   "metadata": {},
   "source": [
    "During the preprocessing step in `Preprocessing.ipynb`, training and test images are stored in subfolders respective of the region. This proved impractical at times, especially when attempting retraining. When predicting results for the challenge submission, it is practical to have access to all test images at once."
   ]
  },
  {
   "cell_type": "code",
   "execution_count": 15,
   "metadata": {},
   "outputs": [],
   "source": [
    "from os.path import join\n",
    "import shutil\n",
    "import json\n",
    "\n",
    "import utils"
   ]
  },
  {
   "cell_type": "markdown",
   "metadata": {},
   "source": [
    "Order is important for loading datasets and labels in the right order!"
   ]
  },
  {
   "cell_type": "code",
   "execution_count": 16,
   "metadata": {},
   "outputs": [],
   "source": [
    "sets = [('colombia', 'borde_rural'),\n",
    "        ('colombia', 'borde_soacha'),\n",
    "        ('guatemala', 'mixco_1_and_ebenezer'), \n",
    "        ('guatemala', 'mixco_3'),\n",
    "        ('st_lucia', 'dennery')]"
   ]
  },
  {
   "cell_type": "markdown",
   "metadata": {},
   "source": [
    "### Define paths"
   ]
  },
  {
   "cell_type": "code",
   "execution_count": 17,
   "metadata": {},
   "outputs": [],
   "source": [
    "data_path = join('..', '..', 'stac')\n",
    "train_dir = join('..', '..', 'stac', country, region, 'roofs_train')\n",
    "all_in_one = join(data_path, 'all_in_one')\n",
    "\n",
    "materials = {'concrete_cement':0, 'healthy_metal':1, 'incomplete':2, 'irregular_metal':3, 'other':4}"
   ]
  },
  {
   "cell_type": "markdown",
   "metadata": {},
   "source": [
    "### Copy all labels into one file"
   ]
  },
  {
   "cell_type": "code",
   "execution_count": 18,
   "metadata": {},
   "outputs": [],
   "source": [
    "all_labels = utils.get_labels(sets, data_path)\n",
    "with open(join(all_in_one, 'roofs_train', 'simple_labels.json'), 'w') as label_file:\n",
    "    json.dump(all_labels, label_file)"
   ]
  },
  {
   "cell_type": "markdown",
   "metadata": {},
   "source": [
    "### Copy all samples into one directory per material"
   ]
  },
  {
   "cell_type": "code",
   "execution_count": 28,
   "metadata": {},
   "outputs": [],
   "source": [
    "for country, region in sets:\n",
    "    region_train_dir = join('..', '..', 'stac', country, region, 'roofs_train')\n",
    "    region_test_dir = join('..', '..', 'stac', country, region, 'roofs_test')\n",
    "\n",
    "    # Copy all training images by material\n",
    "    for mat in materials.keys():\n",
    "        region_mat_dir = join(region_train_dir, mat)\n",
    "        all_mat_dir = join(all_in_one, 'roofs_train', mat)\n",
    "        shutil.copytree(region_mat_dir, all_mat_dir, dirs_exist_ok=True)\n",
    "        \n",
    "    # Copy all test samples\n",
    "    all_test_dir = join(all_in_one, 'region_test')\n",
    "    shutil.copytree(region_test_dir, all_test_dir, dirs_exist_ok=True)"
   ]
  }
 ],
 "metadata": {
  "kernelspec": {
   "display_name": "Python 3",
   "language": "python",
   "name": "python3"
  },
  "language_info": {
   "codemirror_mode": {
    "name": "ipython",
    "version": 3
   },
   "file_extension": ".py",
   "mimetype": "text/x-python",
   "name": "python",
   "nbconvert_exporter": "python",
   "pygments_lexer": "ipython3",
   "version": "3.8.3"
  }
 },
 "nbformat": 4,
 "nbformat_minor": 2
}
