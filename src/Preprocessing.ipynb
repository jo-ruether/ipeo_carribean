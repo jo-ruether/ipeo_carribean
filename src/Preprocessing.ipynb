{
 "cells": [
  {
   "cell_type": "markdown",
   "metadata": {},
   "source": [
    "# Preprocessing Data\n",
    "\n",
    "The given dataset provides large, cloud-optimized Geotiff files of several gigabytes. To calculate features on single roof images, they are cut out using the roof polygon coordinates in `train-<region>.geojson` and `test-<region>.geojson`.\n",
    "Every roof image is stored as a single tif-file.\n",
    "\n",
    "Data is handled __by region,__ i.e. every region gets its own folder of training and test images.\n",
    "Training images are sorted into different __subfolders respective of the material__ label. Test images are all put into the same folder, since their material is unknown.\n",
    "\n",
    "The preprocessing step adds folders `roofs_train` and `roofs_test` to the existing file tree, resulting in a structure as follows:\n",
    "\n",
    "```\n",
    "data\n",
    "└───region1\n",
    "│   │   train-region1.geojson\n",
    "│   │   region1_ortho-cog.tif\n",
    "│   │   ...\n",
    "│   └───roofs_train\n",
    "│   │   └───healthy_metal\n",
    "│   │       │   roof_id_a.tif\n",
    "│   │       │   roof_id_b.tif\n",
    "│   │       │   ...\n",
    "│   │ \n",
    "│   │   └───irregular_metal\n",
    "│   │       │   ...\n",
    "│   │   └───concrete_cement\n",
    "│   │       │   ...\n",
    "│   │   └───incomplete\n",
    "│   │       │   ...\n",
    "│   │   └───other\n",
    "│   │       │   ...\n",
    "│   │\n",
    "│   └───roofs_test\n",
    "│       │   roof_id_m.tif\n",
    "│       │   roof_id_n.tif\n",
    "│       │   ...\n",
    "│\n",
    "└───region2\n",
    "│   │   ...\n",
    "```"
   ]
  },
  {
   "cell_type": "code",
   "execution_count": 1,
   "metadata": {},
   "outputs": [],
   "source": [
    "import rasterio\n",
    "import logging\n",
    "from tqdm import tqdm\n",
    "import sys\n",
    "from rasterio.mask import mask\n",
    "from pyproj import Transformer\n",
    "\n",
    "import numpy as np\n",
    "import json\n",
    "from os.path import join, exists\n",
    "from os import makedirs\n",
    "import matplotlib\n",
    "import matplotlib.pyplot as plt"
   ]
  },
  {
   "cell_type": "markdown",
   "metadata": {},
   "source": [
    "## 1. Get an overview of a single scenery\n",
    "\n",
    "Show a thumbnail of the image."
   ]
  },
  {
   "cell_type": "code",
   "execution_count": 2,
   "metadata": {},
   "outputs": [],
   "source": [
    "def show_thumbnail(image_fp):\n",
    "    dec_factor = 32\n",
    "    with rasterio.open(image_fp) as src:\n",
    "        b, g, r = (src.read(k,\n",
    "                            out_shape=(1, int(src.height // dec_factor),\n",
    "                                          int(src.width // dec_factor)),\n",
    "                            fill_value=255) for k in (1, 2, 3))\n",
    "\n",
    "    img = np.array([b, g, r]).transpose(1, 2, 0)\n",
    "    \n",
    "    plt.figure(figsize=(12, 12))\n",
    "    plt.imshow(img)\n",
    "    plt.axis('off')\n",
    "    plt.show()"
   ]
  },
  {
   "cell_type": "markdown",
   "metadata": {},
   "source": [
    "## 2. Cut out training roofs and store as separate files"
   ]
  },
  {
   "cell_type": "markdown",
   "metadata": {},
   "source": [
    "Create subfolders for test and training samples of every region. The training directory gets subfolders for each material."
   ]
  },
  {
   "cell_type": "code",
   "execution_count": 3,
   "metadata": {},
   "outputs": [],
   "source": [
    "def create_save_dirs(train_dir, test_dir):\n",
    "    makedirs(test_dir, exist_ok=True)\n",
    "    \n",
    "    materials = ['healthy_metal', 'irregular_metal', 'concrete_cement', 'incomplete', 'other']\n",
    "    for mat in materials:\n",
    "        mat_dir = join(train_dir, mat) \n",
    "        makedirs(mat_dir, exist_ok=True)"
   ]
  },
  {
   "cell_type": "markdown",
   "metadata": {},
   "source": [
    "Coordinates in GeoJSON label file need to be converted to the CSR format of the image."
   ]
  },
  {
   "cell_type": "code",
   "execution_count": 4,
   "metadata": {},
   "outputs": [],
   "source": [
    "def create_transformer(image_fp):\n",
    "    with rasterio.open(image_fp) as src:\n",
    "        transformer = Transformer.from_crs('epsg:4326', # lat/lon coordinate format\n",
    "                                           src.profile['crs'], # CRS format of image\n",
    "                                           always_xy=True)\n",
    "    return transformer"
   ]
  },
  {
   "cell_type": "markdown",
   "metadata": {},
   "source": [
    "#### Cutting out roofs\n",
    "1. Extract the roof id and polygon coordinates from GeoJSON label file\n",
    "2. Convert the lat/lon coordinates to image coordinates\n",
    "3. Cut the polygon out of the image\n",
    "4. Save the cut out image of the roof to file with id as name"
   ]
  },
  {
   "cell_type": "code",
   "execution_count": 5,
   "metadata": {
    "scrolled": true
   },
   "outputs": [],
   "source": [
    "def cut_out_roofs(geojson_fp, image_fp, save_dir, coord_transformer):\n",
    "\n",
    "    with open(geojson_fp) as geojson:\n",
    "        geoms = json.loads(geojson.read())\n",
    "        roofs = geoms['features']\n",
    "\n",
    "    with rasterio.open(image_fp) as image, tqdm(total=len(geoms['features']), file=sys.stdout) as pbar:\n",
    "        for roof in roofs:\n",
    "                \n",
    "            roof_id = roof['id']\n",
    "            roof_geom = roof['geometry']  \n",
    "            pbar.update(1)\n",
    "\n",
    "            # There are about 10 Multipolygons in the whole dataset.\n",
    "            # I chose to ignore them for training instead of writing a special function to cut them out.\n",
    "            if roof_geom['type'] == 'MultiPolygon':\n",
    "                continue\n",
    "\n",
    "            coord = roof_geom['coordinates'][0]\n",
    "            for c in coord:\n",
    "                c[0], c[1] = coord_transformer.transform(c[0], c[1])\n",
    "\n",
    "            # Cut out the roof from the original image\n",
    "            roof_image, roof_transform = mask(image, [roof_geom], filled=True, crop=True)\n",
    "\n",
    "            # Copy metadata from original image but update important parameters\n",
    "            roof_meta = image.meta.copy()\n",
    "            roof_meta.update({\"driver\": \"GTiff\",\n",
    "                \"dtype\": rasterio.uint8,\n",
    "                \"height\": roof_image.shape[1],\n",
    "                \"width\": roof_image.shape[2],\n",
    "                \"transform\": roof_transform,\n",
    "                \"tiled\": True,\n",
    "                \"compress\": 'lzw'})\n",
    "            \n",
    "            # Save to file\n",
    "            if \"roof_material\" in roof['properties']:\n",
    "                roof_material = roof['properties']['roof_material']\n",
    "                roof_image_fp = join(save_dir, roof_material, str(roof_id)+\".tif\")\n",
    "            else:\n",
    "                roof_image_fp = join(save_dir, str(roof_id)+\".tif\")\n",
    "            with rasterio.open(roof_image_fp, \"w\", **roof_meta) as dest:\n",
    "                dest.write(roof_image)"
   ]
  },
  {
   "cell_type": "markdown",
   "metadata": {},
   "source": [
    "Create simple labels, with roof ids as keys and labels as values:"
   ]
  },
  {
   "cell_type": "code",
   "execution_count": 3,
   "metadata": {},
   "outputs": [],
   "source": [
    "def create_label_file(geojson_fp, save_dir):\n",
    "    \n",
    "    labels = dict()\n",
    "    \n",
    "    with open(geojson_fp) as geojson:\n",
    "        geoms = json.loads(geojson.read())\n",
    "        roofs = geoms['features']\n",
    "    \n",
    "    for roof in roofs:\n",
    "        if roof['geometry']['type'] == 'MultiPolygon':\n",
    "            continue\n",
    "        roof_id = roof['properties']['id']\n",
    "        roof_material = roof['properties']['roof_material']\n",
    "        labels[roof_id] = roof_material\n",
    "        \n",
    "    with open(join(save_dir, 'simple_labels.json'), 'w') as fp:\n",
    "        json.dump(labels, fp, indent=2)"
   ]
  },
  {
   "cell_type": "markdown",
   "metadata": {},
   "source": [
    "Do it for a single image or do it all in one go"
   ]
  },
  {
   "cell_type": "code",
   "execution_count": 4,
   "metadata": {},
   "outputs": [],
   "source": [
    "sets = [('colombia', 'borde_rural'),\n",
    "        ('colombia', 'borde_soacha'),\n",
    "        ('guatemala', 'mixco_1_and_ebenezer'), \n",
    "        ('guatemala', 'mixco_3'),\n",
    "        ('st_lucia', 'dennery')\n",
    "        #('st_lucia', 'gros_islet'), \n",
    "        #('st_lucia', 'castries')\n",
    "       ]"
   ]
  },
  {
   "cell_type": "code",
   "execution_count": 5,
   "metadata": {
    "scrolled": false
   },
   "outputs": [
    {
     "name": "stdout",
     "output_type": "stream",
     "text": [
      "---------------------\n",
      "Preprocessing region Borde Rural in Colombia\n",
      "---------------------\n",
      "Preprocessing region Borde Soacha in Colombia\n",
      "---------------------\n",
      "Preprocessing region Mixco 1 And Ebenezer in Guatemala\n",
      "---------------------\n",
      "Preprocessing region Mixco 3 in Guatemala\n",
      "---------------------\n",
      "Preprocessing region Dennery in St_Lucia\n"
     ]
    }
   ],
   "source": [
    "for country, region in sets:\n",
    "    \n",
    "    region_title = region.replace('_', ' ').title()\n",
    "    print(\"---------------------\")\n",
    "    print(f\"Preprocessing region {region_title} in {country.title()}\")\n",
    "    \n",
    "    region_fp = join('..', '..', 'stac', country, region)\n",
    "    image_fp = join(region_fp, region+'_ortho-cog.tif')\n",
    "    \n",
    "    train_dir = join(region_fp, 'roofs_train')\n",
    "    test_dir = join(region_fp, 'roofs_test')\n",
    "    create_save_dirs(train_dir, test_dir)\n",
    "    \n",
    "    geojson_train_fp = join(region_fp, 'train-'+region+'.geojson')\n",
    "    geojson_test_fp = join(region_fp, 'test-'+region+'.geojson')\n",
    "    create_label_file(geojson_train_fp, train_dir)\n",
    "    \n",
    "    show_thumbnail(image_fp)\n",
    "    coord_transformer = create_transformer(image_fp)\n",
    "    \n",
    "    print(\"Processing training set\")\n",
    "    cut_out_roofs(geojson_train_fp, image_fp, train_dir, coord_transformer)\n",
    "    print(\"Processing test set\")\n",
    "    cut_out_roofs(geojson_test_fp, image_fp, test_dir, coord_transformer)"
   ]
  },
  {
   "cell_type": "code",
   "execution_count": null,
   "metadata": {},
   "outputs": [],
   "source": []
  }
 ],
 "metadata": {
  "kernelspec": {
   "display_name": "Python 3",
   "language": "python",
   "name": "python3"
  },
  "language_info": {
   "codemirror_mode": {
    "name": "ipython",
    "version": 3
   },
   "file_extension": ".py",
   "mimetype": "text/x-python",
   "name": "python",
   "nbconvert_exporter": "python",
   "pygments_lexer": "ipython3",
   "version": "3.7.6"
  }
 },
 "nbformat": 4,
 "nbformat_minor": 2
}
