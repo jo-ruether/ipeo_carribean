{
 "cells": [
  {
   "cell_type": "markdown",
   "metadata": {},
   "source": [
    "# Preprocessing Data\n",
    "\n",
    "The given dataset provides large, cloud-optimized Geotiff files of several gigabytes. To calculate features on single roof images, they are cut out using the roof polygon coordinates in `train-<region>.geojson` and `test-<region>.geojson`.\n",
    "Every roof image is stored as a single tif-file.\n",
    "\n",
    "Data is handled __by region,__ i.e. every region gets its own folder of training and test images.\n",
    "Training images are sorted into different subfolders respective of the material label.\n",
    "\n",
    "The preprocessing step adds folders `roofs_train` and `roofs_test` to the existing file tree, resulting in a structure as follows:\n",
    "\n",
    "```\n",
    "data\n",
    "└───region1\n",
    "│   │   train-region1.geojson\n",
    "│   │   region1_ortho-cog.tif\n",
    "│   │   ...\n",
    "│   └───roofs_train\n",
    "│   │   └───healthy_metal\n",
    "│   │       │   roof_id_a.tif\n",
    "│   │       │   roof_id_b.tif\n",
    "│   │       │   ...\n",
    "│   │ \n",
    "│   │   └───irregular_metal\n",
    "│   │       │   ...\n",
    "│   │   └───concrete_cement\n",
    "│   │       │   ...\n",
    "│   │   └───incomplete\n",
    "│   │       │   ...\n",
    "│   │   └───other\n",
    "│   │       │   ...\n",
    "│   │\n",
    "│   └───roofs_test\n",
    "│       │   roof_id_m.tif\n",
    "│       │   roof_id_n.tif\n",
    "│       │   ...\n",
    "│\n",
    "└───region2\n",
    "│   │   ...\n",
    "```"
   ]
  },
  {
   "cell_type": "code",
   "execution_count": null,
   "metadata": {},
   "outputs": [],
   "source": [
    "import rasterio\n",
    "from rasterio.plot import show\n",
    "import numpy as np\n",
    "import matplotlib\n",
    "import matplotlib.pyplot as plt\n",
    "import json\n",
    "from os.path import join"
   ]
  },
  {
   "cell_type": "code",
   "execution_count": null,
   "metadata": {},
   "outputs": [],
   "source": [
    "region = 'dennery'\n",
    "region_fp = join('..', '..', 'data', region)\n",
    "\n",
    "geojson_fp = join(region_fp, 'train-'+region+'.geojson')\n",
    "image_fp = join(region_fp, region+'_ortho-cog.tif')\n",
    "roof_dir = join(region_fp, 'roofs_train')"
   ]
  },
  {
   "cell_type": "markdown",
   "metadata": {},
   "source": [
    "## 1. Get an overview of the scenery\n",
    "\n",
    "Show a thumbnail of the image."
   ]
  },
  {
   "cell_type": "code",
   "execution_count": null,
   "metadata": {},
   "outputs": [],
   "source": [
    "with rasterio.open(image_fp) as src:\n",
    "    profile = src.profile\n",
    "    print(profile['crs'])\n",
    "    print(src.profile)\n",
    "    print(src.bounds)"
   ]
  },
  {
   "cell_type": "code",
   "execution_count": null,
   "metadata": {},
   "outputs": [],
   "source": [
    "with rasterio.open(image_fp) as src:\n",
    "    oviews = src.overviews(1)\n",
    "    oview = oviews[-1]\n",
    "    print('Decimation factor = {}'.format(oview))\n",
    "    b, g, r = (src.read(k, out_shape=(1, int(src.height // oview), int(src.width // oview))) for k in (1, 2, 3))\n",
    "\n",
    "img = (b, g, r)\n",
    "img = np.moveaxis(img, 0, -1)\n",
    "\n",
    "fig = plt.figure(figsize=(10, 5))\n",
    "plt.imshow(img)\n",
    "plt.colorbar()\n",
    "plt.title('Overview')"
   ]
  },
  {
   "cell_type": "markdown",
   "metadata": {},
   "source": [
    "## 2. Cut out training roofs and store as separate files"
   ]
  },
  {
   "cell_type": "code",
   "execution_count": null,
   "metadata": {},
   "outputs": [],
   "source": [
    "import rasterio\n",
    "from rasterio.mask import mask\n",
    "from os import makedirs\n",
    "from os.path import exists"
   ]
  },
  {
   "cell_type": "markdown",
   "metadata": {},
   "source": [
    "Create subfolders for each material."
   ]
  },
  {
   "cell_type": "code",
   "execution_count": null,
   "metadata": {},
   "outputs": [],
   "source": [
    "materials = ['healthy_metal', 'irregular_metal', 'concrete_cement', 'incomplete', 'other']\n",
    "for mat in materials:\n",
    "    directory = join(roof_dir, mat) \n",
    "    if not exists(directory):\n",
    "        makedirs(directory)"
   ]
  },
  {
   "cell_type": "markdown",
   "metadata": {},
   "source": [
    "Coordinates in GeoJSON label file need to be converted to the CSR format of the image."
   ]
  },
  {
   "cell_type": "code",
   "execution_count": null,
   "metadata": {},
   "outputs": [],
   "source": [
    "from pyproj import Proj, transform\n",
    "outProj = Proj(init=profile['crs']) # CRS format of image\n",
    "inProj = Proj(init='epsg:4326') # lat/lon coordinate format"
   ]
  },
  {
   "cell_type": "markdown",
   "metadata": {},
   "source": [
    "#### Cutting out roofs\n",
    "1. Extract the roof id and polygon coordinates from GeoJSON label file\n",
    "2. Cut the polygon out of the image\n",
    "3. Save the cut out image of the roof to file with id as name"
   ]
  },
  {
   "cell_type": "code",
   "execution_count": null,
   "metadata": {
    "scrolled": true
   },
   "outputs": [],
   "source": [
    "with open(geojson_fp) as geojson:\n",
    "    geoms = json.loads(geojson.read())\n",
    "    roofs = geoms['features']\n",
    "\n",
    "for roof in roofs:\n",
    "    roof_id = roof['id']\n",
    "    roof_geom = roof['geometry']\n",
    "    roof_material = roof['properties']['roof_material']    \n",
    "    print(roof_id)\n",
    "    \n",
    "    # There are about 10 Multipolygons in the whole dataset.\n",
    "    # I chose to ignore them instead of writing a special function to cut them out.\n",
    "    if roof_geom['type'] == 'MultiPolygon':\n",
    "        print(\"MULTIPOLYGON\")\n",
    "        continue\n",
    "    else:\n",
    "        coord = roof_geom['coordinates'][0]\n",
    "        for c in coord:\n",
    "            c[0], c[1] = transform(inProj, outProj, c[0], c[1])\n",
    "    \n",
    "    # Cut out the roof from the original image\n",
    "    print(roof_geom)\n",
    "    with rasterio.open(image_fp) as image:\n",
    "        roof_image, roof_transform = mask(image, [roof_geom], filled=True, crop=True)\n",
    "    #show(roof_image)\n",
    "    \n",
    "    # Copy metadata from original image but update important parameters\n",
    "    roof_meta = image.meta.copy()\n",
    "    roof_meta.update({\"driver\": \"GTiff\",\n",
    "        \"dtype\": rasterio.uint8,\n",
    "        \"height\": roof_image.shape[1],\n",
    "        \"width\": roof_image.shape[2],\n",
    "        \"transform\": roof_transform,\n",
    "        \"tiled\": True,\n",
    "        \"compress\": 'lzw'})\n",
    "    \n",
    "    # Save to file\n",
    "    roof_image_fp = join(roof_dir, roof_material, str(roof_id)+\".tif\")\n",
    "    with rasterio.open(roof_image_fp, \"w\", **roof_meta) as dest:\n",
    "        dest.write(roof_image)                             "
   ]
  },
  {
   "cell_type": "markdown",
   "metadata": {},
   "source": [
    "## 3. Preprocess all regions using module `preprocessing`\n",
    "\n",
    "The above function only preprocesses the __training__ images. The `preprocessing` module features a slightly different function for the __test__ images, that ignores the material label and puts all test images into one folder."
   ]
  },
  {
   "cell_type": "code",
   "execution_count": null,
   "metadata": {},
   "outputs": [],
   "source": [
    "import preprocessing"
   ]
  },
  {
   "cell_type": "code",
   "execution_count": null,
   "metadata": {
    "scrolled": true
   },
   "outputs": [],
   "source": [
    "for region in regions:\n",
    "    preprocessing.preprocess_region(region)"
   ]
  }
 ],
 "metadata": {
  "kernelspec": {
   "display_name": "Python 3",
   "language": "python",
   "name": "python3"
  },
  "language_info": {
   "codemirror_mode": {
    "name": "ipython",
    "version": 3
   },
   "file_extension": ".py",
   "mimetype": "text/x-python",
   "name": "python",
   "nbconvert_exporter": "python",
   "pygments_lexer": "ipython3",
   "version": "3.7.3"
  }
 },
 "nbformat": 4,
 "nbformat_minor": 2
}
