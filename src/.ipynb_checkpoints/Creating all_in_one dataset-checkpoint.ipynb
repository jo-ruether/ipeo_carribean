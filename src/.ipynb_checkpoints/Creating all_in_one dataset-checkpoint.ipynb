{
 "cells": [
  {
   "cell_type": "markdown",
   "metadata": {},
   "source": [
    "# Creation of an all-in-one dataset"
   ]
  },
  {
   "cell_type": "markdown",
   "metadata": {},
   "source": [
    "This notebook combines all cut-out training and test images from all regions with validated, labeled data into one folder for training, validation and test images.\n",
    "\n",
    "The validation set is _randomly sampled_ from the training data."
   ]
  },
  {
   "cell_type": "code",
   "execution_count": 1,
   "metadata": {},
   "outputs": [],
   "source": [
    "from os import makedirs\n",
    "from os.path import exists, join, isfile\n",
    "from os import listdir\n",
    "import numpy as np"
   ]
  },
  {
   "cell_type": "code",
   "execution_count": 2,
   "metadata": {},
   "outputs": [],
   "source": [
    "regions = ['borde_rural', 'borde_soacha', 'mixco_3', 'mixco_1_and_ebenezer', 'dennery']"
   ]
  },
  {
   "cell_type": "markdown",
   "metadata": {},
   "source": [
    "Define the paths"
   ]
  },
  {
   "cell_type": "code",
   "execution_count": 3,
   "metadata": {},
   "outputs": [],
   "source": [
    "data_dir = join('..', '..', 'data', 'data2')\n",
    "train_dir = join('..', '..', 'data', 'all_in_one', 'train')\n",
    "valid_dir = join('..', '..', 'data', 'all_in_one', 'valid')\n",
    "test_dir = join('..', '..', 'data', 'all_in_one', 'test')"
   ]
  },
  {
   "cell_type": "code",
   "execution_count": 4,
   "metadata": {},
   "outputs": [],
   "source": [
    "materials = {'concrete_cement':0, 'healthy_metal':1, 'incomplete':2, 'irregular_metal':3, 'other':4}"
   ]
  },
  {
   "cell_type": "markdown",
   "metadata": {},
   "source": [
    "Create the necessary folders"
   ]
  },
  {
   "cell_type": "code",
   "execution_count": 5,
   "metadata": {},
   "outputs": [],
   "source": [
    "from shutil import copy"
   ]
  },
  {
   "cell_type": "code",
   "execution_count": null,
   "metadata": {},
   "outputs": [],
   "source": [
    "for mat in materials.keys():\n",
    "    for folder in [train_dir, valid_dir]:\n",
    "        directory = join(folder, mat) \n",
    "        if not exists(directory):\n",
    "            makedirs(directory)"
   ]
  },
  {
   "cell_type": "markdown",
   "metadata": {},
   "source": [
    "Copy training files into the right directory (a share into the training folder the rest in the validation folder)"
   ]
  },
  {
   "cell_type": "code",
   "execution_count": null,
   "metadata": {},
   "outputs": [],
   "source": [
    "for mat in materials.keys():\n",
    "    train_mat_dir = join(train_dir, mat)\n",
    "    valid_mat_dir = join(valid_dir, mat)\n",
    "    \n",
    "    for region in regions:\n",
    "        region_mat_dir = join(data_dir, region, 'roofs_train', mat)\n",
    "        print(region_mat_dir)\n",
    "        \n",
    "        all_files = listdir(region_mat_dir)\n",
    "        validation_ratio = 0.3\n",
    "        \n",
    "        valid_files = np.random.choice(all_files, int(len(all_files)*validation_ratio))\n",
    "        train_files = [x for x in all_files if x not in valid_files]\n",
    "\n",
    "        for file_name in valid_files:\n",
    "            full_file_name = join(region_mat_dir, file_name)\n",
    "            if isfile(full_file_name):\n",
    "                copy(full_file_name, valid_mat_dir)\n",
    "                \n",
    "        for file_name in train_files:\n",
    "            full_file_name = join(region_mat_dir, file_name)\n",
    "            if isfile(full_file_name):\n",
    "                copy(full_file_name, train_mat_dir)"
   ]
  },
  {
   "cell_type": "markdown",
   "metadata": {},
   "source": [
    "Do a similar thing for the test files"
   ]
  },
  {
   "cell_type": "code",
   "execution_count": 6,
   "metadata": {},
   "outputs": [
    {
     "name": "stdout",
     "output_type": "stream",
     "text": [
      "../../data/data2/borde_rural/roofs_test\n",
      "../../data/data2/borde_soacha/roofs_test\n",
      "../../data/data2/mixco_3/roofs_test\n",
      "../../data/data2/mixco_1_and_ebenezer/roofs_test\n",
      "../../data/data2/dennery/roofs_test\n"
     ]
    }
   ],
   "source": [
    "test_dir = join(test_dir)\n",
    "for region in regions:\n",
    "    region_dir = join(data_dir, region, 'roofs_test')\n",
    "    print(region_dir)\n",
    "    all_files = listdir(region_dir)\n",
    "    \n",
    "    for file_name in all_files:\n",
    "        full_file_name = join(region_dir, file_name)\n",
    "        if isfile(full_file_name):\n",
    "            copy(full_file_name, test_dir)"
   ]
  },
  {
   "cell_type": "code",
   "execution_count": null,
   "metadata": {},
   "outputs": [],
   "source": []
  }
 ],
 "metadata": {
  "kernelspec": {
   "display_name": "Python 3",
   "language": "python",
   "name": "python3"
  },
  "language_info": {
   "codemirror_mode": {
    "name": "ipython",
    "version": 3
   },
   "file_extension": ".py",
   "mimetype": "text/x-python",
   "name": "python",
   "nbconvert_exporter": "python",
   "pygments_lexer": "ipython3",
   "version": "3.7.5"
  }
 },
 "nbformat": 4,
 "nbformat_minor": 2
}
