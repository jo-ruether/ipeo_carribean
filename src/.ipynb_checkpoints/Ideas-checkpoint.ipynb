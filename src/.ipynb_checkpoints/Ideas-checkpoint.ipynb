{
 "cells": [
  {
   "cell_type": "markdown",
   "metadata": {},
   "source": [
    "### Boost confidence\n",
    "\n",
    "* Check **confusion matrix**\n",
    "* If very few confusions, it might make sense to be put more confidence into the results\n",
    "* Use e.g. Sigmoid function to augment values that are very high and reduce to zero those that are very low\n",
    "* This might slightly increase the score, especially if we are super confident already (0.90)"
   ]
  },
  {
   "cell_type": "markdown",
   "metadata": {},
   "source": [
    "### Use CNN on features from pretrained network\n",
    "\n",
    "* Do as the guys in _Deep Learning Earth Observation Classification Using ImageNet Pretrained Networks_ did."
   ]
  },
  {
   "cell_type": "markdown",
   "metadata": {},
   "source": [
    "### Normalize the data\n",
    "* https://datascience.stackexchange.com/questions/989/svm-using-scikit-learn-runs-endlessly-and-never-completes-execution"
   ]
  },
  {
   "cell_type": "markdown",
   "metadata": {},
   "source": [
    "### Balance classes\n",
    "* Some classes like incomplete dont have a lot of training examples\n",
    "* Use augmentation to balance this?"
   ]
  },
  {
   "cell_type": "code",
   "execution_count": null,
   "metadata": {},
   "outputs": [],
   "source": []
  }
 ],
 "metadata": {
  "kernelspec": {
   "display_name": "Python 3",
   "language": "python",
   "name": "python3"
  },
  "language_info": {
   "codemirror_mode": {
    "name": "ipython",
    "version": 3
   },
   "file_extension": ".py",
   "mimetype": "text/x-python",
   "name": "python",
   "nbconvert_exporter": "python",
   "pygments_lexer": "ipython3",
   "version": "3.7.3"
  }
 },
 "nbformat": 4,
 "nbformat_minor": 2
}
