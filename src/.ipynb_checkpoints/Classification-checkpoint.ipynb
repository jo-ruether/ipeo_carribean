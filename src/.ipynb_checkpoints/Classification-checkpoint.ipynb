{
 "cells": [
  {
   "cell_type": "markdown",
   "metadata": {},
   "source": [
    "## Classification using SVMs"
   ]
  },
  {
   "cell_type": "markdown",
   "metadata": {},
   "source": [
    "1. Read saved feature matrix and corresponding labels"
   ]
  },
  {
   "cell_type": "code",
   "execution_count": 101,
   "metadata": {},
   "outputs": [],
   "source": [
    "import pickle\n",
    "from os.path import join\n",
    "\n",
    "region = 'curated'\n",
    "pickle_path = '.'\n",
    "with open(join(pickle_path, 'resnet50_feature_matrix_' + region + '.pkl'), 'rb') as f:\n",
    "    resnet50_feature_matrix = pickle.load(f)\n",
    "with open(join(pickle_path, 'labels_' + region + '.pkl'), 'rb') as f:\n",
    "    labels = pickle.load(f)"
   ]
  },
  {
   "cell_type": "markdown",
   "metadata": {},
   "source": [
    "2. Split data into train and validation set"
   ]
  },
  {
   "cell_type": "code",
   "execution_count": 102,
   "metadata": {},
   "outputs": [],
   "source": [
    "from sklearn import svm\n",
    "from sklearn.metrics import confusion_matrix\n",
    "from sklearn.model_selection import train_test_split\n",
    "from sklearn.utils.multiclass import unique_labels"
   ]
  },
  {
   "cell_type": "code",
   "execution_count": 103,
   "metadata": {},
   "outputs": [],
   "source": [
    "features_train, features_test, labels_train, labels_test = train_test_split(resnet50_feature_matrix,\n",
    "                                                                            labels,\n",
    "                                                                            test_size=0.33,\n",
    "                                                                            random_state=43)"
   ]
  },
  {
   "cell_type": "markdown",
   "metadata": {},
   "source": [
    "3. Train a classifier on the training set"
   ]
  },
  {
   "cell_type": "code",
   "execution_count": 104,
   "metadata": {
    "scrolled": true
   },
   "outputs": [
    {
     "data": {
      "text/plain": [
       "SVC(C=100, cache_size=200, class_weight=None, coef0=0.0,\n",
       "    decision_function_shape='ovr', degree=3, gamma='scale', kernel='rbf',\n",
       "    max_iter=-1, probability=True, random_state=None, shrinking=True, tol=0.001,\n",
       "    verbose=False)"
      ]
     },
     "execution_count": 104,
     "metadata": {},
     "output_type": "execute_result"
    }
   ],
   "source": [
    "clf = svm.SVC(gamma='scale', probability=True, C=100, decision_function_shape='ovr')\n",
    "clf.fit(features_train, labels_train)"
   ]
  },
  {
   "cell_type": "markdown",
   "metadata": {},
   "source": [
    "4. Predict labels on the validation set according to the classifier"
   ]
  },
  {
   "cell_type": "code",
   "execution_count": 130,
   "metadata": {
    "scrolled": true
   },
   "outputs": [],
   "source": [
    "predicted_labels = clf.predict(features_test)"
   ]
  },
  {
   "cell_type": "markdown",
   "metadata": {},
   "source": [
    "5. Calculate and plot (to do) the confusion matrix"
   ]
  },
  {
   "cell_type": "code",
   "execution_count": 132,
   "metadata": {},
   "outputs": [
    {
     "name": "stdout",
     "output_type": "stream",
     "text": [
      "[[17  0  0]\n",
      " [ 0  7  0]\n",
      " [ 2  0  6]]\n"
     ]
    }
   ],
   "source": [
    "cm = confusion_matrix(labels_test, predicted_labels)\n",
    "print(cm)"
   ]
  },
  {
   "cell_type": "code",
   "execution_count": 75,
   "metadata": {
    "scrolled": true
   },
   "outputs": [
    {
     "name": "stdout",
     "output_type": "stream",
     "text": [
      "[0.89986338 0.00837999 0.09175664] 0\n",
      "[0.89033023 0.03628888 0.07338089] 0\n",
      "[0.90051792 0.04183361 0.05764847] 0\n",
      "[0.96626236 0.01001408 0.02372356] 0\n",
      "[0.06135577 0.75839479 0.18024944] 1\n",
      "[0.27708945 0.67796986 0.04494069] 1\n",
      "[0.06874874 0.84765499 0.08359628] 1\n",
      "[0.09206001 0.80910635 0.09883365] 1\n",
      "[0.51292847 0.37310103 0.1139705 ] 0\n",
      "[0.1786006  0.02395043 0.79744897] 2\n",
      "[0.6964532  0.18571727 0.11782953] 0\n",
      "[0.9219034  0.02168738 0.05640923] 0\n",
      "[0.2721947  0.09265559 0.63514971] 2\n",
      "[0.59463588 0.30523119 0.10013292] 0\n",
      "[0.0592052  0.01061461 0.93018019] 2\n",
      "[0.71731258 0.23392455 0.04876287] 0\n",
      "[0.91635354 0.01524735 0.06839912] 0\n",
      "[0.98610568 0.00670358 0.00719074] 0\n",
      "[0.04432544 0.93136588 0.02430868] 1\n",
      "[0.06431939 0.0258337  0.90984691] 2\n",
      "[0.97024448 0.00759053 0.02216499] 0\n",
      "[0.93516162 0.00911661 0.05572178] 0\n",
      "[0.07389778 0.91993373 0.00616848] 1\n",
      "[0.44354156 0.05972512 0.49673332] 2\n",
      "[0.97099561 0.00886425 0.02014014] 0\n",
      "[0.14034522 0.02270541 0.83694937] 2\n",
      "[0.03357229 0.06528839 0.90113931] 2\n",
      "[0.10252858 0.87838968 0.01908173] 1\n",
      "[0.53571412 0.03886186 0.42542402] 2\n",
      "[0.71765543 0.05657487 0.2257697 ] 0\n",
      "[0.76055633 0.13486579 0.10457789] 0\n",
      "[0.94285706 0.01890347 0.03823947] 0\n"
     ]
    }
   ],
   "source": [
    "pred_probas = clf.predict_proba(features_test)\n",
    "\n",
    "for i in range(len(predictions)):\n",
    "    print(pred_probas[i], labels_test[i])"
   ]
  },
  {
   "cell_type": "code",
   "execution_count": null,
   "metadata": {},
   "outputs": [],
   "source": []
  },
  {
   "cell_type": "code",
   "execution_count": null,
   "metadata": {},
   "outputs": [],
   "source": []
  }
 ],
 "metadata": {
  "kernelspec": {
   "display_name": "Python 3",
   "language": "python",
   "name": "python3"
  },
  "language_info": {
   "codemirror_mode": {
    "name": "ipython",
    "version": 3
   },
   "file_extension": ".py",
   "mimetype": "text/x-python",
   "name": "python",
   "nbconvert_exporter": "python",
   "pygments_lexer": "ipython3",
   "version": "3.7.3"
  }
 },
 "nbformat": 4,
 "nbformat_minor": 2
}
